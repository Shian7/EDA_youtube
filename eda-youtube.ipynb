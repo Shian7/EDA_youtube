{
 "cells": [
  {
   "cell_type": "markdown",
   "id": "8ba90145",
   "metadata": {
    "papermill": {
     "duration": 0.014005,
     "end_time": "2023-12-21T16:29:42.108007",
     "exception": false,
     "start_time": "2023-12-21T16:29:42.094002",
     "status": "completed"
    },
    "tags": []
   },
   "source": [
    "# Importing The Libaries"
   ]
  },
  {
   "cell_type": "code",
   "execution_count": 1,
   "id": "6ba2fa09",
   "metadata": {
    "execution": {
     "iopub.execute_input": "2023-12-21T16:29:42.137324Z",
     "iopub.status.busy": "2023-12-21T16:29:42.135569Z",
     "iopub.status.idle": "2023-12-21T16:29:43.426253Z",
     "shell.execute_reply": "2023-12-21T16:29:43.424894Z"
    },
    "papermill": {
     "duration": 1.308711,
     "end_time": "2023-12-21T16:29:43.429669",
     "exception": false,
     "start_time": "2023-12-21T16:29:42.120958",
     "status": "completed"
    },
    "tags": []
   },
   "outputs": [],
   "source": [
    "import numpy as np\n",
    "import pandas as pd\n",
    "import matplotlib.pyplot as plt\n",
    "import seaborn as sns\n",
    "import re"
   ]
  },
  {
   "cell_type": "markdown",
   "id": "4e2b008d",
   "metadata": {
    "papermill": {
     "duration": 0.012293,
     "end_time": "2023-12-21T16:29:43.454890",
     "exception": false,
     "start_time": "2023-12-21T16:29:43.442597",
     "status": "completed"
    },
    "tags": []
   },
   "source": [
    "# Loading The Data"
   ]
  },
  {
   "cell_type": "code",
   "execution_count": 2,
   "id": "ae3ee3c3",
   "metadata": {
    "execution": {
     "iopub.execute_input": "2023-12-21T16:29:43.484060Z",
     "iopub.status.busy": "2023-12-21T16:29:43.483073Z",
     "iopub.status.idle": "2023-12-21T16:29:43.642834Z",
     "shell.execute_reply": "2023-12-21T16:29:43.641539Z"
    },
    "papermill": {
     "duration": 0.178906,
     "end_time": "2023-12-21T16:29:43.646965",
     "exception": false,
     "start_time": "2023-12-21T16:29:43.468059",
     "status": "completed"
    },
    "tags": []
   },
   "outputs": [
    {
     "name": "stderr",
     "output_type": "stream",
     "text": [
      "/opt/conda/lib/python3.7/site-packages/IPython/core/interactiveshell.py:3552: FutureWarning: The error_bad_lines argument has been deprecated and will be removed in a future version.\n",
      "\n",
      "\n",
      "  exec(code_obj, self.user_global_ns, self.user_ns)\n",
      "b'Skipping line 2398: expected 11 fields, saw 21\\nSkipping line 2797: expected 11 fields, saw 21\\n'\n"
     ]
    },
    {
     "data": {
      "text/html": [
       "<div>\n",
       "<style scoped>\n",
       "    .dataframe tbody tr th:only-of-type {\n",
       "        vertical-align: middle;\n",
       "    }\n",
       "\n",
       "    .dataframe tbody tr th {\n",
       "        vertical-align: top;\n",
       "    }\n",
       "\n",
       "    .dataframe thead th {\n",
       "        text-align: right;\n",
       "    }\n",
       "</style>\n",
       "<table border=\"1\" class=\"dataframe\">\n",
       "  <thead>\n",
       "    <tr style=\"text-align: right;\">\n",
       "      <th></th>\n",
       "      <th>video_id</th>\n",
       "      <th>title</th>\n",
       "      <th>channel_title</th>\n",
       "      <th>category_id</th>\n",
       "      <th>tags</th>\n",
       "      <th>views</th>\n",
       "      <th>likes</th>\n",
       "      <th>dislikes</th>\n",
       "      <th>comment_total</th>\n",
       "      <th>thumbnail_link</th>\n",
       "      <th>date</th>\n",
       "    </tr>\n",
       "  </thead>\n",
       "  <tbody>\n",
       "    <tr>\n",
       "      <th>0</th>\n",
       "      <td>jt2OHQh0HoQ</td>\n",
       "      <td>Live Apple Event - Apple September Event 2017 ...</td>\n",
       "      <td>Apple Event</td>\n",
       "      <td>28</td>\n",
       "      <td>apple events|apple event|iphone 8|iphone x|iph...</td>\n",
       "      <td>7426393</td>\n",
       "      <td>78240</td>\n",
       "      <td>13548</td>\n",
       "      <td>705</td>\n",
       "      <td>https://i.ytimg.com/vi/jt2OHQh0HoQ/default_liv...</td>\n",
       "      <td>13.09</td>\n",
       "    </tr>\n",
       "    <tr>\n",
       "      <th>1</th>\n",
       "      <td>AqokkXoa7uE</td>\n",
       "      <td>Holly and Phillip Meet Samantha the Sex Robot ...</td>\n",
       "      <td>This Morning</td>\n",
       "      <td>24</td>\n",
       "      <td>this morning|interview|holly willoughby|philli...</td>\n",
       "      <td>494203</td>\n",
       "      <td>2651</td>\n",
       "      <td>1309</td>\n",
       "      <td>0</td>\n",
       "      <td>https://i.ytimg.com/vi/AqokkXoa7uE/default.jpg</td>\n",
       "      <td>13.09</td>\n",
       "    </tr>\n",
       "    <tr>\n",
       "      <th>2</th>\n",
       "      <td>YPVcg45W0z4</td>\n",
       "      <td>My DNA Test Results! I'm WHAT?!</td>\n",
       "      <td>emmablackery</td>\n",
       "      <td>24</td>\n",
       "      <td>emmablackery|emma blackery|emma|blackery|briti...</td>\n",
       "      <td>142819</td>\n",
       "      <td>13119</td>\n",
       "      <td>151</td>\n",
       "      <td>1141</td>\n",
       "      <td>https://i.ytimg.com/vi/YPVcg45W0z4/default.jpg</td>\n",
       "      <td>13.09</td>\n",
       "    </tr>\n",
       "    <tr>\n",
       "      <th>3</th>\n",
       "      <td>T_PuZBdT2iM</td>\n",
       "      <td>getting into a conversation in a language you ...</td>\n",
       "      <td>ProZD</td>\n",
       "      <td>1</td>\n",
       "      <td>skit|korean|language|conversation|esl|japanese...</td>\n",
       "      <td>1580028</td>\n",
       "      <td>65729</td>\n",
       "      <td>1529</td>\n",
       "      <td>3598</td>\n",
       "      <td>https://i.ytimg.com/vi/T_PuZBdT2iM/default.jpg</td>\n",
       "      <td>13.09</td>\n",
       "    </tr>\n",
       "    <tr>\n",
       "      <th>4</th>\n",
       "      <td>NsjsmgmbCfc</td>\n",
       "      <td>Baby Name Challenge!</td>\n",
       "      <td>Sprinkleofglitter</td>\n",
       "      <td>26</td>\n",
       "      <td>sprinkleofglitter|sprinkle of glitter|baby gli...</td>\n",
       "      <td>40592</td>\n",
       "      <td>5019</td>\n",
       "      <td>57</td>\n",
       "      <td>490</td>\n",
       "      <td>https://i.ytimg.com/vi/NsjsmgmbCfc/default.jpg</td>\n",
       "      <td>13.09</td>\n",
       "    </tr>\n",
       "  </tbody>\n",
       "</table>\n",
       "</div>"
      ],
      "text/plain": [
       "      video_id                                              title  \\\n",
       "0  jt2OHQh0HoQ  Live Apple Event - Apple September Event 2017 ...   \n",
       "1  AqokkXoa7uE  Holly and Phillip Meet Samantha the Sex Robot ...   \n",
       "2  YPVcg45W0z4                    My DNA Test Results! I'm WHAT?!   \n",
       "3  T_PuZBdT2iM  getting into a conversation in a language you ...   \n",
       "4  NsjsmgmbCfc                               Baby Name Challenge!   \n",
       "\n",
       "       channel_title  category_id  \\\n",
       "0        Apple Event           28   \n",
       "1       This Morning           24   \n",
       "2       emmablackery           24   \n",
       "3              ProZD            1   \n",
       "4  Sprinkleofglitter           26   \n",
       "\n",
       "                                                tags    views  likes  \\\n",
       "0  apple events|apple event|iphone 8|iphone x|iph...  7426393  78240   \n",
       "1  this morning|interview|holly willoughby|philli...   494203   2651   \n",
       "2  emmablackery|emma blackery|emma|blackery|briti...   142819  13119   \n",
       "3  skit|korean|language|conversation|esl|japanese...  1580028  65729   \n",
       "4  sprinkleofglitter|sprinkle of glitter|baby gli...    40592   5019   \n",
       "\n",
       "   dislikes  comment_total                                     thumbnail_link  \\\n",
       "0     13548            705  https://i.ytimg.com/vi/jt2OHQh0HoQ/default_liv...   \n",
       "1      1309              0     https://i.ytimg.com/vi/AqokkXoa7uE/default.jpg   \n",
       "2       151           1141     https://i.ytimg.com/vi/YPVcg45W0z4/default.jpg   \n",
       "3      1529           3598     https://i.ytimg.com/vi/T_PuZBdT2iM/default.jpg   \n",
       "4        57            490     https://i.ytimg.com/vi/NsjsmgmbCfc/default.jpg   \n",
       "\n",
       "    date  \n",
       "0  13.09  \n",
       "1  13.09  \n",
       "2  13.09  \n",
       "3  13.09  \n",
       "4  13.09  "
      ]
     },
     "execution_count": 2,
     "metadata": {},
     "output_type": "execute_result"
    }
   ],
   "source": [
    "df_videos  = pd.read_csv('../input/youtube/GBvideos.csv', error_bad_lines=False)\n",
    "\n",
    "df_videos .head()"
   ]
  },
  {
   "cell_type": "code",
   "execution_count": 3,
   "id": "fab69fce",
   "metadata": {
    "execution": {
     "iopub.execute_input": "2023-12-21T16:29:43.676218Z",
     "iopub.status.busy": "2023-12-21T16:29:43.675406Z",
     "iopub.status.idle": "2023-12-21T16:29:46.359536Z",
     "shell.execute_reply": "2023-12-21T16:29:46.358238Z"
    },
    "papermill": {
     "duration": 2.702119,
     "end_time": "2023-12-21T16:29:46.362387",
     "exception": false,
     "start_time": "2023-12-21T16:29:43.660268",
     "status": "completed"
    },
    "tags": []
   },
   "outputs": [
    {
     "name": "stderr",
     "output_type": "stream",
     "text": [
      "/opt/conda/lib/python3.7/site-packages/IPython/core/interactiveshell.py:3552: FutureWarning: The error_bad_lines argument has been deprecated and will be removed in a future version.\n",
      "\n",
      "\n",
      "  exec(code_obj, self.user_global_ns, self.user_ns)\n",
      "b'Skipping line 113225: expected 4 fields, saw 5\\n'\n",
      "b'Skipping line 158379: expected 4 fields, saw 7\\nSkipping line 241590: expected 4 fields, saw 5\\nSkipping line 245637: expected 4 fields, saw 7\\n'\n",
      "b'Skipping line 521402: expected 4 fields, saw 5\\n'\n"
     ]
    },
    {
     "data": {
      "text/html": [
       "<div>\n",
       "<style scoped>\n",
       "    .dataframe tbody tr th:only-of-type {\n",
       "        vertical-align: middle;\n",
       "    }\n",
       "\n",
       "    .dataframe tbody tr th {\n",
       "        vertical-align: top;\n",
       "    }\n",
       "\n",
       "    .dataframe thead th {\n",
       "        text-align: right;\n",
       "    }\n",
       "</style>\n",
       "<table border=\"1\" class=\"dataframe\">\n",
       "  <thead>\n",
       "    <tr style=\"text-align: right;\">\n",
       "      <th></th>\n",
       "      <th>video_id</th>\n",
       "      <th>comment_text</th>\n",
       "      <th>likes</th>\n",
       "      <th>replies</th>\n",
       "    </tr>\n",
       "  </thead>\n",
       "  <tbody>\n",
       "    <tr>\n",
       "      <th>0</th>\n",
       "      <td>jt2OHQh0HoQ</td>\n",
       "      <td>It's more accurate to call it the M+ (1000) be...</td>\n",
       "      <td>0</td>\n",
       "      <td>0</td>\n",
       "    </tr>\n",
       "    <tr>\n",
       "      <th>1</th>\n",
       "      <td>jt2OHQh0HoQ</td>\n",
       "      <td>To be there with a samsung phone\\n😂😂😂</td>\n",
       "      <td>1</td>\n",
       "      <td>0</td>\n",
       "    </tr>\n",
       "    <tr>\n",
       "      <th>2</th>\n",
       "      <td>jt2OHQh0HoQ</td>\n",
       "      <td>Thank gosh, a place I can watch it without hav...</td>\n",
       "      <td>0</td>\n",
       "      <td>0</td>\n",
       "    </tr>\n",
       "    <tr>\n",
       "      <th>3</th>\n",
       "      <td>jt2OHQh0HoQ</td>\n",
       "      <td>What happened to the home button on the iPhone...</td>\n",
       "      <td>0</td>\n",
       "      <td>0</td>\n",
       "    </tr>\n",
       "    <tr>\n",
       "      <th>4</th>\n",
       "      <td>jt2OHQh0HoQ</td>\n",
       "      <td>Power is the disease.  Care is the cure.  Keep...</td>\n",
       "      <td>0</td>\n",
       "      <td>0</td>\n",
       "    </tr>\n",
       "  </tbody>\n",
       "</table>\n",
       "</div>"
      ],
      "text/plain": [
       "      video_id                                       comment_text  likes  \\\n",
       "0  jt2OHQh0HoQ  It's more accurate to call it the M+ (1000) be...      0   \n",
       "1  jt2OHQh0HoQ              To be there with a samsung phone\\n😂😂😂      1   \n",
       "2  jt2OHQh0HoQ  Thank gosh, a place I can watch it without hav...      0   \n",
       "3  jt2OHQh0HoQ  What happened to the home button on the iPhone...      0   \n",
       "4  jt2OHQh0HoQ  Power is the disease.  Care is the cure.  Keep...      0   \n",
       "\n",
       "   replies  \n",
       "0        0  \n",
       "1        0  \n",
       "2        0  \n",
       "3        0  \n",
       "4        0  "
      ]
     },
     "execution_count": 3,
     "metadata": {},
     "output_type": "execute_result"
    }
   ],
   "source": [
    "df_comments  = pd.read_csv('../input/youtube/GBcomments.csv', error_bad_lines=False)\n",
    "\n",
    "df_comments .head()\n"
   ]
  },
  {
   "cell_type": "code",
   "execution_count": 4,
   "id": "8a195ae1",
   "metadata": {
    "execution": {
     "iopub.execute_input": "2023-12-21T16:29:46.396329Z",
     "iopub.status.busy": "2023-12-21T16:29:46.395082Z",
     "iopub.status.idle": "2023-12-21T16:29:46.412104Z",
     "shell.execute_reply": "2023-12-21T16:29:46.410424Z"
    },
    "papermill": {
     "duration": 0.036295,
     "end_time": "2023-12-21T16:29:46.415282",
     "exception": false,
     "start_time": "2023-12-21T16:29:46.378987",
     "status": "completed"
    },
    "tags": []
   },
   "outputs": [
    {
     "data": {
      "text/plain": [
       "video_id          0\n",
       "title             0\n",
       "channel_title     0\n",
       "category_id       0\n",
       "tags              0\n",
       "views             0\n",
       "likes             0\n",
       "dislikes          0\n",
       "comment_total     0\n",
       "thumbnail_link    0\n",
       "date              0\n",
       "dtype: int64"
      ]
     },
     "execution_count": 4,
     "metadata": {},
     "output_type": "execute_result"
    }
   ],
   "source": [
    "df_videos.isnull().sum()"
   ]
  },
  {
   "cell_type": "code",
   "execution_count": 5,
   "id": "f96955eb",
   "metadata": {
    "execution": {
     "iopub.execute_input": "2023-12-21T16:29:46.447751Z",
     "iopub.status.busy": "2023-12-21T16:29:46.446779Z",
     "iopub.status.idle": "2023-12-21T16:29:46.456772Z",
     "shell.execute_reply": "2023-12-21T16:29:46.455359Z"
    },
    "papermill": {
     "duration": 0.029772,
     "end_time": "2023-12-21T16:29:46.459684",
     "exception": false,
     "start_time": "2023-12-21T16:29:46.429912",
     "status": "completed"
    },
    "tags": []
   },
   "outputs": [
    {
     "data": {
      "text/plain": [
       "(718452, 4)"
      ]
     },
     "execution_count": 5,
     "metadata": {},
     "output_type": "execute_result"
    }
   ],
   "source": [
    "df_comments.shape"
   ]
  },
  {
   "cell_type": "code",
   "execution_count": 6,
   "id": "18ddf9ee",
   "metadata": {
    "execution": {
     "iopub.execute_input": "2023-12-21T16:29:46.492897Z",
     "iopub.status.busy": "2023-12-21T16:29:46.490348Z",
     "iopub.status.idle": "2023-12-21T16:29:46.755789Z",
     "shell.execute_reply": "2023-12-21T16:29:46.754277Z"
    },
    "papermill": {
     "duration": 0.284491,
     "end_time": "2023-12-21T16:29:46.759038",
     "exception": false,
     "start_time": "2023-12-21T16:29:46.474547",
     "status": "completed"
    },
    "tags": []
   },
   "outputs": [],
   "source": [
    "df_comments.dropna(inplace=True)"
   ]
  },
  {
   "cell_type": "markdown",
   "id": "6cef9905",
   "metadata": {
    "papermill": {
     "duration": 0.015442,
     "end_time": "2023-12-21T16:29:46.789606",
     "exception": false,
     "start_time": "2023-12-21T16:29:46.774164",
     "status": "completed"
    },
    "tags": []
   },
   "source": [
    "Emotion analysisEmotion analysisEmotion analysis# Remove emoticons"
   ]
  },
  {
   "cell_type": "code",
   "execution_count": 7,
   "id": "68d6da01",
   "metadata": {
    "execution": {
     "iopub.execute_input": "2023-12-21T16:29:46.822734Z",
     "iopub.status.busy": "2023-12-21T16:29:46.822256Z",
     "iopub.status.idle": "2023-12-21T16:29:47.085527Z",
     "shell.execute_reply": "2023-12-21T16:29:47.084139Z"
    },
    "papermill": {
     "duration": 0.283245,
     "end_time": "2023-12-21T16:29:47.088708",
     "exception": false,
     "start_time": "2023-12-21T16:29:46.805463",
     "status": "completed"
    },
    "tags": []
   },
   "outputs": [],
   "source": [
    "# 從評論數據框中移除任何帶有缺失數據的行\n",
    "df_comments.dropna(inplace=True)\n",
    "\n",
    "# 確保'likes'和'replies'列的數據類型為整數，以便一致性數據處理\n",
    "df_comments['likes'] = df_comments['likes'].astype(int)\n",
    "df_comments['replies'] = df_comments['replies'].astype(int)"
   ]
  },
  {
   "cell_type": "code",
   "execution_count": 8,
   "id": "b4107271",
   "metadata": {
    "execution": {
     "iopub.execute_input": "2023-12-21T16:29:47.120008Z",
     "iopub.status.busy": "2023-12-21T16:29:47.119545Z",
     "iopub.status.idle": "2023-12-21T16:29:47.830945Z",
     "shell.execute_reply": "2023-12-21T16:29:47.829506Z"
    },
    "papermill": {
     "duration": 0.730817,
     "end_time": "2023-12-21T16:29:47.834033",
     "exception": false,
     "start_time": "2023-12-21T16:29:47.103216",
     "status": "completed"
    },
    "tags": []
   },
   "outputs": [
    {
     "data": {
      "text/html": [
       "<div>\n",
       "<style scoped>\n",
       "    .dataframe tbody tr th:only-of-type {\n",
       "        vertical-align: middle;\n",
       "    }\n",
       "\n",
       "    .dataframe tbody tr th {\n",
       "        vertical-align: top;\n",
       "    }\n",
       "\n",
       "    .dataframe thead th {\n",
       "        text-align: right;\n",
       "    }\n",
       "</style>\n",
       "<table border=\"1\" class=\"dataframe\">\n",
       "  <thead>\n",
       "    <tr style=\"text-align: right;\">\n",
       "      <th></th>\n",
       "      <th>video_id</th>\n",
       "      <th>comment_text</th>\n",
       "      <th>likes</th>\n",
       "      <th>replies</th>\n",
       "    </tr>\n",
       "  </thead>\n",
       "  <tbody>\n",
       "    <tr>\n",
       "      <th>0</th>\n",
       "      <td>jt2OHQh0HoQ</td>\n",
       "      <td>it's more accurate to call it the m+ (1000) be...</td>\n",
       "      <td>0</td>\n",
       "      <td>0</td>\n",
       "    </tr>\n",
       "    <tr>\n",
       "      <th>1</th>\n",
       "      <td>jt2OHQh0HoQ</td>\n",
       "      <td>to be there with a samsung phone\\n😂😂😂</td>\n",
       "      <td>1</td>\n",
       "      <td>0</td>\n",
       "    </tr>\n",
       "    <tr>\n",
       "      <th>2</th>\n",
       "      <td>jt2OHQh0HoQ</td>\n",
       "      <td>thank gosh, a place i can watch it without hav...</td>\n",
       "      <td>0</td>\n",
       "      <td>0</td>\n",
       "    </tr>\n",
       "    <tr>\n",
       "      <th>3</th>\n",
       "      <td>jt2OHQh0HoQ</td>\n",
       "      <td>what happened to the home button on the iphone...</td>\n",
       "      <td>0</td>\n",
       "      <td>0</td>\n",
       "    </tr>\n",
       "    <tr>\n",
       "      <th>4</th>\n",
       "      <td>jt2OHQh0HoQ</td>\n",
       "      <td>power is the disease.  care is the cure.  keep...</td>\n",
       "      <td>0</td>\n",
       "      <td>0</td>\n",
       "    </tr>\n",
       "  </tbody>\n",
       "</table>\n",
       "</div>"
      ],
      "text/plain": [
       "      video_id                                       comment_text  likes  \\\n",
       "0  jt2OHQh0HoQ  it's more accurate to call it the m+ (1000) be...      0   \n",
       "1  jt2OHQh0HoQ              to be there with a samsung phone\\n😂😂😂      1   \n",
       "2  jt2OHQh0HoQ  thank gosh, a place i can watch it without hav...      0   \n",
       "3  jt2OHQh0HoQ  what happened to the home button on the iphone...      0   \n",
       "4  jt2OHQh0HoQ  power is the disease.  care is the cure.  keep...      0   \n",
       "\n",
       "   replies  \n",
       "0        0  \n",
       "1        0  \n",
       "2        0  \n",
       "3        0  \n",
       "4        0  "
      ]
     },
     "execution_count": 8,
     "metadata": {},
     "output_type": "execute_result"
    }
   ],
   "source": [
    "df_comments[\"comment_text\"] = df_comments[\"comment_text\"].str.lower()\n",
    "df_comments.head()"
   ]
  },
  {
   "cell_type": "code",
   "execution_count": 9,
   "id": "594cad2f",
   "metadata": {
    "execution": {
     "iopub.execute_input": "2023-12-21T16:29:47.865133Z",
     "iopub.status.busy": "2023-12-21T16:29:47.864715Z",
     "iopub.status.idle": "2023-12-21T16:29:51.995687Z",
     "shell.execute_reply": "2023-12-21T16:29:51.994378Z"
    },
    "papermill": {
     "duration": 4.150124,
     "end_time": "2023-12-21T16:29:51.998907",
     "exception": false,
     "start_time": "2023-12-21T16:29:47.848783",
     "status": "completed"
    },
    "tags": []
   },
   "outputs": [
    {
     "data": {
      "text/html": [
       "<div>\n",
       "<style scoped>\n",
       "    .dataframe tbody tr th:only-of-type {\n",
       "        vertical-align: middle;\n",
       "    }\n",
       "\n",
       "    .dataframe tbody tr th {\n",
       "        vertical-align: top;\n",
       "    }\n",
       "\n",
       "    .dataframe thead th {\n",
       "        text-align: right;\n",
       "    }\n",
       "</style>\n",
       "<table border=\"1\" class=\"dataframe\">\n",
       "  <thead>\n",
       "    <tr style=\"text-align: right;\">\n",
       "      <th></th>\n",
       "      <th>video_id</th>\n",
       "      <th>comment_text</th>\n",
       "      <th>likes</th>\n",
       "      <th>replies</th>\n",
       "    </tr>\n",
       "  </thead>\n",
       "  <tbody>\n",
       "    <tr>\n",
       "      <th>0</th>\n",
       "      <td>jt2OHQh0HoQ</td>\n",
       "      <td>its more accurate to call it the m 1000 becaus...</td>\n",
       "      <td>0</td>\n",
       "      <td>0</td>\n",
       "    </tr>\n",
       "    <tr>\n",
       "      <th>1</th>\n",
       "      <td>jt2OHQh0HoQ</td>\n",
       "      <td>to be there with a samsung phone\\n😂😂😂</td>\n",
       "      <td>1</td>\n",
       "      <td>0</td>\n",
       "    </tr>\n",
       "    <tr>\n",
       "      <th>2</th>\n",
       "      <td>jt2OHQh0HoQ</td>\n",
       "      <td>thank gosh a place i can watch it without havi...</td>\n",
       "      <td>0</td>\n",
       "      <td>0</td>\n",
       "    </tr>\n",
       "    <tr>\n",
       "      <th>3</th>\n",
       "      <td>jt2OHQh0HoQ</td>\n",
       "      <td>what happened to the home button on the iphone...</td>\n",
       "      <td>0</td>\n",
       "      <td>0</td>\n",
       "    </tr>\n",
       "    <tr>\n",
       "      <th>4</th>\n",
       "      <td>jt2OHQh0HoQ</td>\n",
       "      <td>power is the disease  care is the cure  keep c...</td>\n",
       "      <td>0</td>\n",
       "      <td>0</td>\n",
       "    </tr>\n",
       "  </tbody>\n",
       "</table>\n",
       "</div>"
      ],
      "text/plain": [
       "      video_id                                       comment_text  likes  \\\n",
       "0  jt2OHQh0HoQ  its more accurate to call it the m 1000 becaus...      0   \n",
       "1  jt2OHQh0HoQ              to be there with a samsung phone\\n😂😂😂      1   \n",
       "2  jt2OHQh0HoQ  thank gosh a place i can watch it without havi...      0   \n",
       "3  jt2OHQh0HoQ  what happened to the home button on the iphone...      0   \n",
       "4  jt2OHQh0HoQ  power is the disease  care is the cure  keep c...      0   \n",
       "\n",
       "   replies  \n",
       "0        0  \n",
       "1        0  \n",
       "2        0  \n",
       "3        0  \n",
       "4        0  "
      ]
     },
     "execution_count": 9,
     "metadata": {},
     "output_type": "execute_result"
    }
   ],
   "source": [
    "import string\n",
    "import re\n",
    "\n",
    "# 定義一個函數來移除標點符號和轉換文本為小寫\n",
    "def clean_text(text):\n",
    "    # 移除標點符號\n",
    "    text = re.sub(f'[{string.punctuation}]', '', text)\n",
    "    # 轉換文本為小寫\n",
    "    text = text.lower()\n",
    "    return text\n",
    "\n",
    "# 應用清理函數到評論的文本\n",
    "df_comments['comment_text'] = df_comments['comment_text'].apply(clean_text)\n",
    "\n",
    "# 顯示處理後的前幾行數據\n",
    "df_comments.head()\n"
   ]
  },
  {
   "cell_type": "code",
   "execution_count": 10,
   "id": "95db216b",
   "metadata": {
    "execution": {
     "iopub.execute_input": "2023-12-21T16:29:52.031251Z",
     "iopub.status.busy": "2023-12-21T16:29:52.030767Z",
     "iopub.status.idle": "2023-12-21T16:30:01.159705Z",
     "shell.execute_reply": "2023-12-21T16:30:01.158425Z"
    },
    "papermill": {
     "duration": 9.148603,
     "end_time": "2023-12-21T16:30:01.162954",
     "exception": false,
     "start_time": "2023-12-21T16:29:52.014351",
     "status": "completed"
    },
    "tags": []
   },
   "outputs": [
    {
     "name": "stderr",
     "output_type": "stream",
     "text": [
      "/opt/conda/lib/python3.7/site-packages/ipykernel_launcher.py:1: FutureWarning: The default value of regex will change from True to False in a future version.\n",
      "  \"\"\"Entry point for launching an IPython kernel.\n"
     ]
    },
    {
     "data": {
      "text/html": [
       "<div>\n",
       "<style scoped>\n",
       "    .dataframe tbody tr th:only-of-type {\n",
       "        vertical-align: middle;\n",
       "    }\n",
       "\n",
       "    .dataframe tbody tr th {\n",
       "        vertical-align: top;\n",
       "    }\n",
       "\n",
       "    .dataframe thead th {\n",
       "        text-align: right;\n",
       "    }\n",
       "</style>\n",
       "<table border=\"1\" class=\"dataframe\">\n",
       "  <thead>\n",
       "    <tr style=\"text-align: right;\">\n",
       "      <th></th>\n",
       "      <th>video_id</th>\n",
       "      <th>comment_text</th>\n",
       "      <th>likes</th>\n",
       "      <th>replies</th>\n",
       "    </tr>\n",
       "  </thead>\n",
       "  <tbody>\n",
       "    <tr>\n",
       "      <th>0</th>\n",
       "      <td>jt2OHQh0HoQ</td>\n",
       "      <td>its more accurate to call it the m  because th...</td>\n",
       "      <td>0</td>\n",
       "      <td>0</td>\n",
       "    </tr>\n",
       "    <tr>\n",
       "      <th>1</th>\n",
       "      <td>jt2OHQh0HoQ</td>\n",
       "      <td>to be there with a samsung phone\\n</td>\n",
       "      <td>1</td>\n",
       "      <td>0</td>\n",
       "    </tr>\n",
       "    <tr>\n",
       "      <th>2</th>\n",
       "      <td>jt2OHQh0HoQ</td>\n",
       "      <td>thank gosh a place i can watch it without havi...</td>\n",
       "      <td>0</td>\n",
       "      <td>0</td>\n",
       "    </tr>\n",
       "    <tr>\n",
       "      <th>3</th>\n",
       "      <td>jt2OHQh0HoQ</td>\n",
       "      <td>what happened to the home button on the iphone...</td>\n",
       "      <td>0</td>\n",
       "      <td>0</td>\n",
       "    </tr>\n",
       "    <tr>\n",
       "      <th>4</th>\n",
       "      <td>jt2OHQh0HoQ</td>\n",
       "      <td>power is the disease  care is the cure  keep c...</td>\n",
       "      <td>0</td>\n",
       "      <td>0</td>\n",
       "    </tr>\n",
       "  </tbody>\n",
       "</table>\n",
       "</div>"
      ],
      "text/plain": [
       "      video_id                                       comment_text  likes  \\\n",
       "0  jt2OHQh0HoQ  its more accurate to call it the m  because th...      0   \n",
       "1  jt2OHQh0HoQ                 to be there with a samsung phone\\n      1   \n",
       "2  jt2OHQh0HoQ  thank gosh a place i can watch it without havi...      0   \n",
       "3  jt2OHQh0HoQ  what happened to the home button on the iphone...      0   \n",
       "4  jt2OHQh0HoQ  power is the disease  care is the cure  keep c...      0   \n",
       "\n",
       "   replies  \n",
       "0        0  \n",
       "1        0  \n",
       "2        0  \n",
       "3        0  \n",
       "4        0  "
      ]
     },
     "execution_count": 10,
     "metadata": {},
     "output_type": "execute_result"
    }
   ],
   "source": [
    "df_comments['comment_text'] = df_comments['comment_text'].str.replace('\\d+', '')\n",
    "\n",
    "def remove_emoji(string):\n",
    "    emoji_pattern = re.compile(\"[\"\n",
    "                               u\"\\U0001F600-\\U0001F64F\"  # emoticons\n",
    "                               u\"\\U0001F300-\\U0001F5FF\"  # symbols & pictographs\n",
    "                               u\"\\U0001F680-\\U0001F6FF\"  # transport & map symbols\n",
    "                               u\"\\U0001F1E0-\\U0001F1FF\"  # flags (iOS)\n",
    "                               u\"\\U00002702-\\U000027B0\"\n",
    "                               u\"\\U000024C2-\\U0001F251\"\n",
    "                               \"]+\", flags=re.UNICODE)\n",
    "    return emoji_pattern.sub(r'', string)\n",
    "\n",
    "df_comments['comment_text'] = df_comments['comment_text'].apply(remove_emoji)\n",
    "df_comments.head()"
   ]
  },
  {
   "cell_type": "code",
   "execution_count": 11,
   "id": "f8d00c6d",
   "metadata": {
    "execution": {
     "iopub.execute_input": "2023-12-21T16:30:01.195999Z",
     "iopub.status.busy": "2023-12-21T16:30:01.195202Z",
     "iopub.status.idle": "2023-12-21T16:30:01.407728Z",
     "shell.execute_reply": "2023-12-21T16:30:01.406509Z"
    },
    "papermill": {
     "duration": 0.232256,
     "end_time": "2023-12-21T16:30:01.410595",
     "exception": false,
     "start_time": "2023-12-21T16:30:01.178339",
     "status": "completed"
    },
    "tags": []
   },
   "outputs": [
    {
     "data": {
      "text/html": [
       "        <script type=\"text/javascript\">\n",
       "        window.PlotlyConfig = {MathJaxConfig: 'local'};\n",
       "        if (window.MathJax && window.MathJax.Hub && window.MathJax.Hub.Config) {window.MathJax.Hub.Config({SVG: {font: \"STIX-Web\"}});}\n",
       "        if (typeof require !== 'undefined') {\n",
       "        require.undef(\"plotly\");\n",
       "        requirejs.config({\n",
       "            paths: {\n",
       "                'plotly': ['https://cdn.plot.ly/plotly-2.14.0.min']\n",
       "            }\n",
       "        });\n",
       "        require(['plotly'], function(Plotly) {\n",
       "            window._Plotly = Plotly;\n",
       "        });\n",
       "        }\n",
       "        </script>\n",
       "        "
      ]
     },
     "metadata": {},
     "output_type": "display_data"
    },
    {
     "data": {
      "text/html": [
       "<div>                            <div id=\"2c05a378-6481-42d3-bd5b-bae43e436953\" class=\"plotly-graph-div\" style=\"height:525px; width:100%;\"></div>            <script type=\"text/javascript\">                require([\"plotly\"], function(Plotly) {                    window.PLOTLYENV=window.PLOTLYENV || {};                                    if (document.getElementById(\"2c05a378-6481-42d3-bd5b-bae43e436953\")) {                    Plotly.newPlot(                        \"2c05a378-6481-42d3-bd5b-bae43e436953\",                        [{\"width\":0.4,\"x\":[\"BTS (방탄소년단) 'DNA' Official MV\",\"BTS (방탄소년단) 'DNA' Official MV\",\"BTS (방탄소년단) 'DNA' Official MV\",\"BTS (방탄소년단) 'DNA' Official MV\",\"Yandel - Como Antes (Official Video) ft. Wisin\",\"ZAYN - Dusk Till Dawn ft. Sia\",\"BTS (방탄소년단) 'DNA' Official MV\",\"ZAYN - Dusk Till Dawn ft. Sia\",\"Shakira - Perro Fiel (Official Video) ft. Nicky Jam\",\"BTS (방탄소년단) 'DNA' Official MV\"],\"y\":[58961407,55269274,51093264,47496553,42486342,41959549,41500671,38678096,38144440,37982279],\"type\":\"bar\"}],                        {\"template\":{\"data\":{\"histogram2dcontour\":[{\"type\":\"histogram2dcontour\",\"colorbar\":{\"outlinewidth\":0,\"ticks\":\"\"},\"colorscale\":[[0.0,\"#0d0887\"],[0.1111111111111111,\"#46039f\"],[0.2222222222222222,\"#7201a8\"],[0.3333333333333333,\"#9c179e\"],[0.4444444444444444,\"#bd3786\"],[0.5555555555555556,\"#d8576b\"],[0.6666666666666666,\"#ed7953\"],[0.7777777777777778,\"#fb9f3a\"],[0.8888888888888888,\"#fdca26\"],[1.0,\"#f0f921\"]]}],\"choropleth\":[{\"type\":\"choropleth\",\"colorbar\":{\"outlinewidth\":0,\"ticks\":\"\"}}],\"histogram2d\":[{\"type\":\"histogram2d\",\"colorbar\":{\"outlinewidth\":0,\"ticks\":\"\"},\"colorscale\":[[0.0,\"#0d0887\"],[0.1111111111111111,\"#46039f\"],[0.2222222222222222,\"#7201a8\"],[0.3333333333333333,\"#9c179e\"],[0.4444444444444444,\"#bd3786\"],[0.5555555555555556,\"#d8576b\"],[0.6666666666666666,\"#ed7953\"],[0.7777777777777778,\"#fb9f3a\"],[0.8888888888888888,\"#fdca26\"],[1.0,\"#f0f921\"]]}],\"heatmap\":[{\"type\":\"heatmap\",\"colorbar\":{\"outlinewidth\":0,\"ticks\":\"\"},\"colorscale\":[[0.0,\"#0d0887\"],[0.1111111111111111,\"#46039f\"],[0.2222222222222222,\"#7201a8\"],[0.3333333333333333,\"#9c179e\"],[0.4444444444444444,\"#bd3786\"],[0.5555555555555556,\"#d8576b\"],[0.6666666666666666,\"#ed7953\"],[0.7777777777777778,\"#fb9f3a\"],[0.8888888888888888,\"#fdca26\"],[1.0,\"#f0f921\"]]}],\"heatmapgl\":[{\"type\":\"heatmapgl\",\"colorbar\":{\"outlinewidth\":0,\"ticks\":\"\"},\"colorscale\":[[0.0,\"#0d0887\"],[0.1111111111111111,\"#46039f\"],[0.2222222222222222,\"#7201a8\"],[0.3333333333333333,\"#9c179e\"],[0.4444444444444444,\"#bd3786\"],[0.5555555555555556,\"#d8576b\"],[0.6666666666666666,\"#ed7953\"],[0.7777777777777778,\"#fb9f3a\"],[0.8888888888888888,\"#fdca26\"],[1.0,\"#f0f921\"]]}],\"contourcarpet\":[{\"type\":\"contourcarpet\",\"colorbar\":{\"outlinewidth\":0,\"ticks\":\"\"}}],\"contour\":[{\"type\":\"contour\",\"colorbar\":{\"outlinewidth\":0,\"ticks\":\"\"},\"colorscale\":[[0.0,\"#0d0887\"],[0.1111111111111111,\"#46039f\"],[0.2222222222222222,\"#7201a8\"],[0.3333333333333333,\"#9c179e\"],[0.4444444444444444,\"#bd3786\"],[0.5555555555555556,\"#d8576b\"],[0.6666666666666666,\"#ed7953\"],[0.7777777777777778,\"#fb9f3a\"],[0.8888888888888888,\"#fdca26\"],[1.0,\"#f0f921\"]]}],\"surface\":[{\"type\":\"surface\",\"colorbar\":{\"outlinewidth\":0,\"ticks\":\"\"},\"colorscale\":[[0.0,\"#0d0887\"],[0.1111111111111111,\"#46039f\"],[0.2222222222222222,\"#7201a8\"],[0.3333333333333333,\"#9c179e\"],[0.4444444444444444,\"#bd3786\"],[0.5555555555555556,\"#d8576b\"],[0.6666666666666666,\"#ed7953\"],[0.7777777777777778,\"#fb9f3a\"],[0.8888888888888888,\"#fdca26\"],[1.0,\"#f0f921\"]]}],\"mesh3d\":[{\"type\":\"mesh3d\",\"colorbar\":{\"outlinewidth\":0,\"ticks\":\"\"}}],\"scatter\":[{\"fillpattern\":{\"fillmode\":\"overlay\",\"size\":10,\"solidity\":0.2},\"type\":\"scatter\"}],\"parcoords\":[{\"type\":\"parcoords\",\"line\":{\"colorbar\":{\"outlinewidth\":0,\"ticks\":\"\"}}}],\"scatterpolargl\":[{\"type\":\"scatterpolargl\",\"marker\":{\"colorbar\":{\"outlinewidth\":0,\"ticks\":\"\"}}}],\"bar\":[{\"error_x\":{\"color\":\"#2a3f5f\"},\"error_y\":{\"color\":\"#2a3f5f\"},\"marker\":{\"line\":{\"color\":\"#E5ECF6\",\"width\":0.5},\"pattern\":{\"fillmode\":\"overlay\",\"size\":10,\"solidity\":0.2}},\"type\":\"bar\"}],\"scattergeo\":[{\"type\":\"scattergeo\",\"marker\":{\"colorbar\":{\"outlinewidth\":0,\"ticks\":\"\"}}}],\"scatterpolar\":[{\"type\":\"scatterpolar\",\"marker\":{\"colorbar\":{\"outlinewidth\":0,\"ticks\":\"\"}}}],\"histogram\":[{\"marker\":{\"pattern\":{\"fillmode\":\"overlay\",\"size\":10,\"solidity\":0.2}},\"type\":\"histogram\"}],\"scattergl\":[{\"type\":\"scattergl\",\"marker\":{\"colorbar\":{\"outlinewidth\":0,\"ticks\":\"\"}}}],\"scatter3d\":[{\"type\":\"scatter3d\",\"line\":{\"colorbar\":{\"outlinewidth\":0,\"ticks\":\"\"}},\"marker\":{\"colorbar\":{\"outlinewidth\":0,\"ticks\":\"\"}}}],\"scattermapbox\":[{\"type\":\"scattermapbox\",\"marker\":{\"colorbar\":{\"outlinewidth\":0,\"ticks\":\"\"}}}],\"scatterternary\":[{\"type\":\"scatterternary\",\"marker\":{\"colorbar\":{\"outlinewidth\":0,\"ticks\":\"\"}}}],\"scattercarpet\":[{\"type\":\"scattercarpet\",\"marker\":{\"colorbar\":{\"outlinewidth\":0,\"ticks\":\"\"}}}],\"carpet\":[{\"aaxis\":{\"endlinecolor\":\"#2a3f5f\",\"gridcolor\":\"white\",\"linecolor\":\"white\",\"minorgridcolor\":\"white\",\"startlinecolor\":\"#2a3f5f\"},\"baxis\":{\"endlinecolor\":\"#2a3f5f\",\"gridcolor\":\"white\",\"linecolor\":\"white\",\"minorgridcolor\":\"white\",\"startlinecolor\":\"#2a3f5f\"},\"type\":\"carpet\"}],\"table\":[{\"cells\":{\"fill\":{\"color\":\"#EBF0F8\"},\"line\":{\"color\":\"white\"}},\"header\":{\"fill\":{\"color\":\"#C8D4E3\"},\"line\":{\"color\":\"white\"}},\"type\":\"table\"}],\"barpolar\":[{\"marker\":{\"line\":{\"color\":\"#E5ECF6\",\"width\":0.5},\"pattern\":{\"fillmode\":\"overlay\",\"size\":10,\"solidity\":0.2}},\"type\":\"barpolar\"}],\"pie\":[{\"automargin\":true,\"type\":\"pie\"}]},\"layout\":{\"autotypenumbers\":\"strict\",\"colorway\":[\"#636efa\",\"#EF553B\",\"#00cc96\",\"#ab63fa\",\"#FFA15A\",\"#19d3f3\",\"#FF6692\",\"#B6E880\",\"#FF97FF\",\"#FECB52\"],\"font\":{\"color\":\"#2a3f5f\"},\"hovermode\":\"closest\",\"hoverlabel\":{\"align\":\"left\"},\"paper_bgcolor\":\"white\",\"plot_bgcolor\":\"#E5ECF6\",\"polar\":{\"bgcolor\":\"#E5ECF6\",\"angularaxis\":{\"gridcolor\":\"white\",\"linecolor\":\"white\",\"ticks\":\"\"},\"radialaxis\":{\"gridcolor\":\"white\",\"linecolor\":\"white\",\"ticks\":\"\"}},\"ternary\":{\"bgcolor\":\"#E5ECF6\",\"aaxis\":{\"gridcolor\":\"white\",\"linecolor\":\"white\",\"ticks\":\"\"},\"baxis\":{\"gridcolor\":\"white\",\"linecolor\":\"white\",\"ticks\":\"\"},\"caxis\":{\"gridcolor\":\"white\",\"linecolor\":\"white\",\"ticks\":\"\"}},\"coloraxis\":{\"colorbar\":{\"outlinewidth\":0,\"ticks\":\"\"}},\"colorscale\":{\"sequential\":[[0.0,\"#0d0887\"],[0.1111111111111111,\"#46039f\"],[0.2222222222222222,\"#7201a8\"],[0.3333333333333333,\"#9c179e\"],[0.4444444444444444,\"#bd3786\"],[0.5555555555555556,\"#d8576b\"],[0.6666666666666666,\"#ed7953\"],[0.7777777777777778,\"#fb9f3a\"],[0.8888888888888888,\"#fdca26\"],[1.0,\"#f0f921\"]],\"sequentialminus\":[[0.0,\"#0d0887\"],[0.1111111111111111,\"#46039f\"],[0.2222222222222222,\"#7201a8\"],[0.3333333333333333,\"#9c179e\"],[0.4444444444444444,\"#bd3786\"],[0.5555555555555556,\"#d8576b\"],[0.6666666666666666,\"#ed7953\"],[0.7777777777777778,\"#fb9f3a\"],[0.8888888888888888,\"#fdca26\"],[1.0,\"#f0f921\"]],\"diverging\":[[0,\"#8e0152\"],[0.1,\"#c51b7d\"],[0.2,\"#de77ae\"],[0.3,\"#f1b6da\"],[0.4,\"#fde0ef\"],[0.5,\"#f7f7f7\"],[0.6,\"#e6f5d0\"],[0.7,\"#b8e186\"],[0.8,\"#7fbc41\"],[0.9,\"#4d9221\"],[1,\"#276419\"]]},\"xaxis\":{\"gridcolor\":\"white\",\"linecolor\":\"white\",\"ticks\":\"\",\"title\":{\"standoff\":15},\"zerolinecolor\":\"white\",\"automargin\":true,\"zerolinewidth\":2},\"yaxis\":{\"gridcolor\":\"white\",\"linecolor\":\"white\",\"ticks\":\"\",\"title\":{\"standoff\":15},\"zerolinecolor\":\"white\",\"automargin\":true,\"zerolinewidth\":2},\"scene\":{\"xaxis\":{\"backgroundcolor\":\"#E5ECF6\",\"gridcolor\":\"white\",\"linecolor\":\"white\",\"showbackground\":true,\"ticks\":\"\",\"zerolinecolor\":\"white\",\"gridwidth\":2},\"yaxis\":{\"backgroundcolor\":\"#E5ECF6\",\"gridcolor\":\"white\",\"linecolor\":\"white\",\"showbackground\":true,\"ticks\":\"\",\"zerolinecolor\":\"white\",\"gridwidth\":2},\"zaxis\":{\"backgroundcolor\":\"#E5ECF6\",\"gridcolor\":\"white\",\"linecolor\":\"white\",\"showbackground\":true,\"ticks\":\"\",\"zerolinecolor\":\"white\",\"gridwidth\":2}},\"shapedefaults\":{\"line\":{\"color\":\"#2a3f5f\"}},\"annotationdefaults\":{\"arrowcolor\":\"#2a3f5f\",\"arrowhead\":0,\"arrowwidth\":1},\"geo\":{\"bgcolor\":\"white\",\"landcolor\":\"#E5ECF6\",\"subunitcolor\":\"white\",\"showland\":true,\"showlakes\":true,\"lakecolor\":\"white\"},\"title\":{\"x\":0.05},\"mapbox\":{\"style\":\"light\"}}},\"title\":{\"text\":\"Top 5 Videos by Views\"},\"xaxis\":{\"title\":{\"text\":\"Video ID\"}},\"yaxis\":{\"title\":{\"text\":\"Views\"}},\"bargap\":0.5},                        {\"responsive\": true}                    ).then(function(){\n",
       "                            \n",
       "var gd = document.getElementById('2c05a378-6481-42d3-bd5b-bae43e436953');\n",
       "var x = new MutationObserver(function (mutations, observer) {{\n",
       "        var display = window.getComputedStyle(gd).display;\n",
       "        if (!display || display === 'none') {{\n",
       "            console.log([gd, 'removed!']);\n",
       "            Plotly.purge(gd);\n",
       "            observer.disconnect();\n",
       "        }}\n",
       "}});\n",
       "\n",
       "// Listen for the removal of the full notebook cells\n",
       "var notebookContainer = gd.closest('#notebook-container');\n",
       "if (notebookContainer) {{\n",
       "    x.observe(notebookContainer, {childList: true});\n",
       "}}\n",
       "\n",
       "// Listen for the clearing of the current output cell\n",
       "var outputEl = gd.closest('.output');\n",
       "if (outputEl) {{\n",
       "    x.observe(outputEl, {childList: true});\n",
       "}}\n",
       "\n",
       "                        })                };                });            </script>        </div>"
      ]
     },
     "metadata": {},
     "output_type": "display_data"
    }
   ],
   "source": [
    "import plotly.graph_objects as go\n",
    "\n",
    "# 计算每个视频的观看次数，并获取前10个观看次数最多的视频\n",
    "top_videos_by_views = df_videos.nlargest(10, 'views')[['title', 'views']]\n",
    "\n",
    "# 创建条形图\n",
    "fig = go.Figure(data=[\n",
    "    go.Bar(x=top_videos_by_views['title'], y=top_videos_by_views['views'], width=0.4)  # 调整width参数以改变条形的宽度\n",
    "])\n",
    "\n",
    "# 更新图表的布局\n",
    "fig.update_layout(\n",
    "    title_text='Top 5 Videos by Views',\n",
    "    xaxis_title='Video ID',\n",
    "    yaxis_title='Views',\n",
    "    bargap=0.5  # 调整bargap参数以改变条形之间的间距\n",
    ")\n",
    "\n",
    "# 显示图表\n",
    "fig.show()"
   ]
  },
  {
   "cell_type": "code",
   "execution_count": 12,
   "id": "400896ef",
   "metadata": {
    "execution": {
     "iopub.execute_input": "2023-12-21T16:30:01.444832Z",
     "iopub.status.busy": "2023-12-21T16:30:01.444365Z",
     "iopub.status.idle": "2023-12-21T16:30:17.675570Z",
     "shell.execute_reply": "2023-12-21T16:30:17.673809Z"
    },
    "papermill": {
     "duration": 16.252678,
     "end_time": "2023-12-21T16:30:17.679145",
     "exception": false,
     "start_time": "2023-12-21T16:30:01.426467",
     "status": "completed"
    },
    "tags": []
   },
   "outputs": [
    {
     "name": "stdout",
     "output_type": "stream",
     "text": [
      "Collecting vaderSentiment\r\n",
      "  Downloading vaderSentiment-3.3.2-py2.py3-none-any.whl (125 kB)\r\n",
      "\u001b[2K     \u001b[90m━━━━━━━━━━━━━━━━━━━━━━━━━━━━━━━━━━━━━━━\u001b[0m \u001b[32m126.0/126.0 kB\u001b[0m \u001b[31m4.8 MB/s\u001b[0m eta \u001b[36m0:00:00\u001b[0m\r\n",
      "\u001b[?25hRequirement already satisfied: requests in /opt/conda/lib/python3.7/site-packages (from vaderSentiment) (2.28.1)\r\n",
      "Requirement already satisfied: idna<4,>=2.5 in /opt/conda/lib/python3.7/site-packages (from requests->vaderSentiment) (3.3)\r\n",
      "Requirement already satisfied: urllib3<1.27,>=1.21.1 in /opt/conda/lib/python3.7/site-packages (from requests->vaderSentiment) (1.26.12)\r\n",
      "Requirement already satisfied: certifi>=2017.4.17 in /opt/conda/lib/python3.7/site-packages (from requests->vaderSentiment) (2022.6.15.2)\r\n",
      "Requirement already satisfied: charset-normalizer<3,>=2 in /opt/conda/lib/python3.7/site-packages (from requests->vaderSentiment) (2.1.0)\r\n",
      "Installing collected packages: vaderSentiment\r\n",
      "Successfully installed vaderSentiment-3.3.2\r\n",
      "\u001b[33mWARNING: Running pip as the 'root' user can result in broken permissions and conflicting behaviour with the system package manager. It is recommended to use a virtual environment instead: https://pip.pypa.io/warnings/venv\u001b[0m\u001b[33m\r\n",
      "\u001b[0m"
     ]
    }
   ],
   "source": [
    "!pip install vaderSentiment"
   ]
  },
  {
   "cell_type": "markdown",
   "id": "01e31bb2",
   "metadata": {
    "papermill": {
     "duration": 0.016262,
     "end_time": "2023-12-21T16:30:17.712492",
     "exception": false,
     "start_time": "2023-12-21T16:30:17.696230",
     "status": "completed"
    },
    "tags": []
   },
   "source": [
    "# Emotion analysis"
   ]
  },
  {
   "cell_type": "code",
   "execution_count": 13,
   "id": "e5837350",
   "metadata": {
    "execution": {
     "iopub.execute_input": "2023-12-21T16:30:17.747868Z",
     "iopub.status.busy": "2023-12-21T16:30:17.747387Z",
     "iopub.status.idle": "2023-12-21T16:33:09.290591Z",
     "shell.execute_reply": "2023-12-21T16:33:09.289278Z"
    },
    "papermill": {
     "duration": 171.580322,
     "end_time": "2023-12-21T16:33:09.309556",
     "exception": false,
     "start_time": "2023-12-21T16:30:17.729234",
     "status": "completed"
    },
    "tags": []
   },
   "outputs": [
    {
     "data": {
      "image/png": "[encoded data removed]",
      "text/plain": [
       "<Figure size 504x288 with 1 Axes>"
      ]
     },
     "metadata": {
      "needs_background": "light"
     },
     "output_type": "display_data"
    }
   ],
   "source": [
    "from vaderSentiment.vaderSentiment import SentimentIntensityAnalyzer\n",
    "import matplotlib.pyplot as plt\n",
    "\n",
    "# 初始化VADER情感分析器\n",
    "analyzer = SentimentIntensityAnalyzer()\n",
    "\n",
    "# 对每条评论进行情感分析\n",
    "df_comments['vader_score'] = df_comments['comment_text'].apply(lambda x: analyzer.polarity_scores(x)['compound'])\n",
    "\n",
    "# 分类情感倾向\n",
    "df_comments['sentiment_type'] = df_comments['vader_score'].apply(lambda x: 'positive' if x > 0 else ('negative' if x < 0 else 'neutral'))\n",
    "\n",
    "# 统计并绘制情感类型的分布\n",
    "df_comments['sentiment_type'].value_counts().plot(kind='bar', figsize=(7, 4))\n",
    "plt.title('Number of Types of Comments')\n",
    "plt.xlabel('Comment Type')\n",
    "plt.ylabel('Number')\n",
    "plt.show()\n"
   ]
  },
  {
   "cell_type": "code",
   "execution_count": 14,
   "id": "9fe63664",
   "metadata": {
    "execution": {
     "iopub.execute_input": "2023-12-21T16:33:09.345873Z",
     "iopub.status.busy": "2023-12-21T16:33:09.345446Z",
     "iopub.status.idle": "2023-12-21T16:33:09.617611Z",
     "shell.execute_reply": "2023-12-21T16:33:09.616116Z"
    },
    "papermill": {
     "duration": 0.293246,
     "end_time": "2023-12-21T16:33:09.620518",
     "exception": false,
     "start_time": "2023-12-21T16:33:09.327272",
     "status": "completed"
    },
    "tags": []
   },
   "outputs": [
    {
     "data": {
      "image/png": "[encoded data removed]",
      "text/plain": [
       "<Figure size 720x504 with 1 Axes>"
      ]
     },
     "metadata": {
      "needs_background": "light"
     },
     "output_type": "display_data"
    }
   ],
   "source": [
    "plt.figure(figsize=(10, 7))\n",
    "\n",
    "df_channel = df_videos.groupby('channel_title').agg({'views': 'mean', 'likes': 'mean'})\n",
    "plt.scatter(df_channel['views'], df_channel['likes'])\n",
    "plt.xlabel('Average Views')\n",
    "plt.ylabel('Average Likes')\n",
    "plt.title('Average Views vs. Average Likes per Channel')\n",
    "plt.show()\n"
   ]
  },
  {
   "cell_type": "markdown",
   "id": "e0244312",
   "metadata": {
    "papermill": {
     "duration": 0.01651,
     "end_time": "2023-12-21T16:33:09.654218",
     "exception": false,
     "start_time": "2023-12-21T16:33:09.637708",
     "status": "completed"
    },
    "tags": []
   },
   "source": [
    "# Distribution of likes vs. views\n"
   ]
  },
  {
   "cell_type": "code",
   "execution_count": 15,
   "id": "b96f6485",
   "metadata": {
    "execution": {
     "iopub.execute_input": "2023-12-21T16:33:09.690388Z",
     "iopub.status.busy": "2023-12-21T16:33:09.689918Z",
     "iopub.status.idle": "2023-12-21T16:33:10.025666Z",
     "shell.execute_reply": "2023-12-21T16:33:10.024276Z"
    },
    "papermill": {
     "duration": 0.357646,
     "end_time": "2023-12-21T16:33:10.028912",
     "exception": false,
     "start_time": "2023-12-21T16:33:09.671266",
     "status": "completed"
    },
    "tags": []
   },
   "outputs": [
    {
     "name": "stderr",
     "output_type": "stream",
     "text": [
      "/opt/conda/lib/python3.7/site-packages/IPython/core/pylabtools.py:151: UserWarning:\n",
      "\n",
      "Glyph 50896 (\\N{HANGUL SYLLABLE WEON}) missing from current font.\n",
      "\n",
      "/opt/conda/lib/python3.7/site-packages/IPython/core/pylabtools.py:151: UserWarning:\n",
      "\n",
      "Glyph 45908 (\\N{HANGUL SYLLABLE DEO}) missing from current font.\n",
      "\n",
      "/opt/conda/lib/python3.7/site-packages/IPython/core/pylabtools.py:151: UserWarning:\n",
      "\n",
      "Glyph 52992 (\\N{HANGUL SYLLABLE KE}) missing from current font.\n",
      "\n",
      "/opt/conda/lib/python3.7/site-packages/IPython/core/pylabtools.py:151: UserWarning:\n",
      "\n",
      "Glyph 51060 (\\N{HANGUL SYLLABLE I}) missing from current font.\n",
      "\n"
     ]
    },
    {
     "data": {
      "image/png": "[encoded data removed]",
      "text/plain": [
       "<Figure size 720x504 with 1 Axes>"
      ]
     },
     "metadata": {
      "needs_background": "light"
     },
     "output_type": "display_data"
    }
   ],
   "source": [
    "df_channel_likes_dislikes = df_videos.groupby('channel_title').agg({'likes': 'mean', 'dislikes': 'mean'})\n",
    "df_channel_likes_dislikes.head(10).plot(kind='bar',figsize=(10, 7), stacked=True)\n",
    "plt.title('Average Likes and Dislikes per Channel')\n",
    "plt.show()\n"
   ]
  },
  {
   "cell_type": "markdown",
   "id": "b725f114",
   "metadata": {
    "papermill": {
     "duration": 0.017188,
     "end_time": "2023-12-21T16:33:10.063965",
     "exception": false,
     "start_time": "2023-12-21T16:33:10.046777",
     "status": "completed"
    },
    "tags": []
   },
   "source": [
    "# Distribution of views by category\n"
   ]
  },
  {
   "cell_type": "code",
   "execution_count": 16,
   "id": "4701299b",
   "metadata": {
    "execution": {
     "iopub.execute_input": "2023-12-21T16:33:10.101864Z",
     "iopub.status.busy": "2023-12-21T16:33:10.101429Z",
     "iopub.status.idle": "2023-12-21T16:33:10.555917Z",
     "shell.execute_reply": "2023-12-21T16:33:10.554479Z"
    },
    "papermill": {
     "duration": 0.477163,
     "end_time": "2023-12-21T16:33:10.559439",
     "exception": false,
     "start_time": "2023-12-21T16:33:10.082276",
     "status": "completed"
    },
    "tags": []
   },
   "outputs": [
    {
     "data": {
      "image/png": "[encoded data removed]",
      "text/plain": [
       "<Figure size 720x432 with 1 Axes>"
      ]
     },
     "metadata": {
      "needs_background": "light"
     },
     "output_type": "display_data"
    }
   ],
   "source": [
    "df_videos.boxplot(column='views', by='category_id', figsize=(10, 6))\n",
    "plt.title('Views Distribution by Category')\n",
    "plt.xlabel('Category ID')\n",
    "plt.ylabel('Views')\n",
    "plt.show()\n"
   ]
  },
  {
   "cell_type": "markdown",
   "id": "c962b59e",
   "metadata": {
    "papermill": {
     "duration": 0.018446,
     "end_time": "2023-12-21T16:33:10.596426",
     "exception": false,
     "start_time": "2023-12-21T16:33:10.577980",
     "status": "completed"
    },
    "tags": []
   },
   "source": [
    "# Channel activity\n"
   ]
  },
  {
   "cell_type": "code",
   "execution_count": 17,
   "id": "35226540",
   "metadata": {
    "execution": {
     "iopub.execute_input": "2023-12-21T16:33:10.637572Z",
     "iopub.status.busy": "2023-12-21T16:33:10.636667Z",
     "iopub.status.idle": "2023-12-21T16:33:11.273496Z",
     "shell.execute_reply": "2023-12-21T16:33:11.272118Z"
    },
    "papermill": {
     "duration": 0.661128,
     "end_time": "2023-12-21T16:33:11.276384",
     "exception": false,
     "start_time": "2023-12-21T16:33:10.615256",
     "status": "completed"
    },
    "tags": []
   },
   "outputs": [
    {
     "name": "stderr",
     "output_type": "stream",
     "text": [
      "/opt/conda/lib/python3.7/site-packages/seaborn/utils.py:95: UserWarning:\n",
      "\n",
      "Glyph 50896 (\\N{HANGUL SYLLABLE WEON}) missing from current font.\n",
      "\n",
      "/opt/conda/lib/python3.7/site-packages/seaborn/utils.py:95: UserWarning:\n",
      "\n",
      "Glyph 45908 (\\N{HANGUL SYLLABLE DEO}) missing from current font.\n",
      "\n",
      "/opt/conda/lib/python3.7/site-packages/seaborn/utils.py:95: UserWarning:\n",
      "\n",
      "Glyph 52992 (\\N{HANGUL SYLLABLE KE}) missing from current font.\n",
      "\n",
      "/opt/conda/lib/python3.7/site-packages/seaborn/utils.py:95: UserWarning:\n",
      "\n",
      "Glyph 51060 (\\N{HANGUL SYLLABLE I}) missing from current font.\n",
      "\n",
      "/opt/conda/lib/python3.7/site-packages/IPython/core/pylabtools.py:151: UserWarning:\n",
      "\n",
      "Glyph 50896 (\\N{HANGUL SYLLABLE WEON}) missing from current font.\n",
      "\n",
      "/opt/conda/lib/python3.7/site-packages/IPython/core/pylabtools.py:151: UserWarning:\n",
      "\n",
      "Glyph 45908 (\\N{HANGUL SYLLABLE DEO}) missing from current font.\n",
      "\n",
      "/opt/conda/lib/python3.7/site-packages/IPython/core/pylabtools.py:151: UserWarning:\n",
      "\n",
      "Glyph 52992 (\\N{HANGUL SYLLABLE KE}) missing from current font.\n",
      "\n",
      "/opt/conda/lib/python3.7/site-packages/IPython/core/pylabtools.py:151: UserWarning:\n",
      "\n",
      "Glyph 51060 (\\N{HANGUL SYLLABLE I}) missing from current font.\n",
      "\n"
     ]
    },
    {
     "data": {
      "image/png": "[encoded data removed]",
      "text/plain": [
       "<Figure size 864x576 with 2 Axes>"
      ]
     },
     "metadata": {
      "needs_background": "light"
     },
     "output_type": "display_data"
    }
   ],
   "source": [
    "plt.figure(figsize=(12, 8))\n",
    "\n",
    "df_channel_activity = df_videos.groupby('channel_title').agg({'video_id': 'count', 'views': 'mean'})\n",
    "sns.heatmap(df_channel_activity.head(20), annot=True)\n",
    "plt.title('Channel Activity (Number of Videos and Average Views)')\n",
    "plt.show()\n"
   ]
  },
  {
   "cell_type": "code",
   "execution_count": 18,
   "id": "33350ca7",
   "metadata": {
    "execution": {
     "iopub.execute_input": "2023-12-21T16:33:11.318467Z",
     "iopub.status.busy": "2023-12-21T16:33:11.317344Z",
     "iopub.status.idle": "2023-12-21T16:33:11.820615Z",
     "shell.execute_reply": "2023-12-21T16:33:11.819694Z"
    },
    "papermill": {
     "duration": 0.52707,
     "end_time": "2023-12-21T16:33:11.823292",
     "exception": false,
     "start_time": "2023-12-21T16:33:11.296222",
     "status": "completed"
    },
    "tags": []
   },
   "outputs": [
    {
     "data": {
      "image/png": "[encoded data removed]",
      "text/plain": [
       "<Figure size 720x576 with 1 Axes>"
      ]
     },
     "metadata": {
      "needs_background": "light"
     },
     "output_type": "display_data"
    }
   ],
   "source": [
    "# 計算每個頻道的平均觀看次數、平均喜歡次數、平均不喜歡次數\n",
    "channel_performance = df_videos.groupby('channel_title').agg({\n",
    "    'views': 'mean',\n",
    "    'likes': 'mean',\n",
    "    'dislikes': 'mean'\n",
    "}).reset_index()\n",
    "\n",
    "# 選擇觀看次數最高的前10個頻道\n",
    "top_channels = channel_performance.nlargest(10, 'views')\n",
    "\n",
    "# 繪製每個頻道的綜合表現概覽圖\n",
    "top_channels_melted = top_channels.melt(id_vars='channel_title', var_name='Metric', value_name='Value')\n",
    "plt.figure(figsize=(10, 8))  # 調整圖表大小\n",
    "sns.barplot(x='Value', y='channel_title', hue='Metric', data=top_channels_melted)\n",
    "plt.title('Top Channel Performance Overview')\n",
    "plt.show()"
   ]
  },
  {
   "cell_type": "markdown",
   "id": "2d203e68",
   "metadata": {
    "papermill": {
     "duration": 0.019757,
     "end_time": "2023-12-21T16:33:11.863761",
     "exception": false,
     "start_time": "2023-12-21T16:33:11.844004",
     "status": "completed"
    },
    "tags": []
   },
   "source": [
    "# Average views, average likes, average dislikes\n"
   ]
  },
  {
   "cell_type": "code",
   "execution_count": 19,
   "id": "f3248049",
   "metadata": {
    "execution": {
     "iopub.execute_input": "2023-12-21T16:33:11.906971Z",
     "iopub.status.busy": "2023-12-21T16:33:11.905961Z",
     "iopub.status.idle": "2023-12-21T16:33:13.016556Z",
     "shell.execute_reply": "2023-12-21T16:33:13.015268Z"
    },
    "papermill": {
     "duration": 1.135357,
     "end_time": "2023-12-21T16:33:13.019403",
     "exception": false,
     "start_time": "2023-12-21T16:33:11.884046",
     "status": "completed"
    },
    "tags": []
   },
   "outputs": [
    {
     "data": {
      "image/png": "[encoded data removed]",
      "text/plain": [
       "<Figure size 864x432 with 1 Axes>"
      ]
     },
     "metadata": {
      "needs_background": "light"
     },
     "output_type": "display_data"
    },
    {
     "data": {
      "image/png": "[encoded data removed]",
      "text/plain": [
       "<Figure size 864x432 with 1 Axes>"
      ]
     },
     "metadata": {
      "needs_background": "light"
     },
     "output_type": "display_data"
    },
    {
     "data": {
      "image/png": "[encoded data removed]",
      "text/plain": [
       "<Figure size 864x432 with 1 Axes>"
      ]
     },
     "metadata": {
      "needs_background": "light"
     },
     "output_type": "display_data"
    }
   ],
   "source": [
    "# 選擇平均觀看次數最高的前10個頻道\n",
    "top_channels_views = channel_performance.nlargest(10, 'views')\n",
    "\n",
    "# 使用長條圖來繪製每個頻道的平均觀看次數\n",
    "plt.figure(figsize=(12, 6))\n",
    "sns.barplot(x='views', y='channel_title', data=top_channels_views)\n",
    "plt.title('Top 10 Channels by Average Views')\n",
    "plt.xlabel('Average Views')\n",
    "plt.ylabel('Channel Title')\n",
    "plt.show()\n",
    "\n",
    "# 選擇平均喜歡次數最高的前10個頻道\n",
    "top_channels_likes = channel_performance.nlargest(10, 'likes')\n",
    "\n",
    "# 使用長條圖來繪製每個頻道的平均喜歡次數\n",
    "plt.figure(figsize=(12, 6))\n",
    "sns.barplot(x='likes', y='channel_title', data=top_channels_likes)\n",
    "plt.title('Top 10 Channels by Average Likes')\n",
    "plt.xlabel('Average Likes')\n",
    "plt.ylabel('Channel Title')\n",
    "plt.show()\n",
    "\n",
    "# 選擇平均不喜歡次數最高的前10個頻道\n",
    "top_channels_dislikes = channel_performance.nlargest(10, 'dislikes')\n",
    "\n",
    "# 使用長條圖來繪製每個頻道的平均不喜歡次數\n",
    "plt.figure(figsize=(12, 6))\n",
    "sns.barplot(x='dislikes', y='channel_title', data=top_channels_dislikes)\n",
    "plt.title('Top 10 Channels by Average Dislikes')\n",
    "plt.xlabel('Average Dislikes')\n",
    "plt.ylabel('Channel Title')\n",
    "plt.show()"
   ]
  },
  {
   "cell_type": "code",
   "execution_count": 20,
   "id": "e712cd54",
   "metadata": {
    "execution": {
     "iopub.execute_input": "2023-12-21T16:33:13.066984Z",
     "iopub.status.busy": "2023-12-21T16:33:13.066529Z",
     "iopub.status.idle": "2023-12-21T16:33:13.646750Z",
     "shell.execute_reply": "2023-12-21T16:33:13.645466Z"
    },
    "papermill": {
     "duration": 0.607507,
     "end_time": "2023-12-21T16:33:13.649589",
     "exception": false,
     "start_time": "2023-12-21T16:33:13.042082",
     "status": "completed"
    },
    "tags": []
   },
   "outputs": [
    {
     "data": {
      "text/plain": [
       "array([<AxesSubplot:title={'center':'views'}, xlabel='category_id'>,\n",
       "       <AxesSubplot:title={'center':'likes'}, xlabel='category_id'>],\n",
       "      dtype=object)"
      ]
     },
     "execution_count": 20,
     "metadata": {},
     "output_type": "execute_result"
    },
    {
     "data": {
      "image/png": "[encoded data removed]",
      "text/plain": [
       "<Figure size 720x432 with 2 Axes>"
      ]
     },
     "metadata": {
      "needs_background": "light"
     },
     "output_type": "display_data"
    }
   ],
   "source": [
    "# 計算每個類別的平均觀看次數和平均按讚數\n",
    "category_popularity = df_videos.groupby('category_id').agg({'views': 'mean', 'likes': 'mean'}).sort_values(by='views', ascending=False)\n",
    "\n",
    "category_popularity.plot(kind='bar', subplots=True, figsize=(10, 6), title='Average Views and Likes by Category')\n"
   ]
  },
  {
   "cell_type": "code",
   "execution_count": 21,
   "id": "0dcd1acb",
   "metadata": {
    "execution": {
     "iopub.execute_input": "2023-12-21T16:33:13.698534Z",
     "iopub.status.busy": "2023-12-21T16:33:13.698053Z",
     "iopub.status.idle": "2023-12-21T16:33:14.079401Z",
     "shell.execute_reply": "2023-12-21T16:33:14.077992Z"
    },
    "papermill": {
     "duration": 0.409092,
     "end_time": "2023-12-21T16:33:14.082222",
     "exception": false,
     "start_time": "2023-12-21T16:33:13.673130",
     "status": "completed"
    },
    "tags": []
   },
   "outputs": [
    {
     "data": {
      "image/png": "[encoded data removed]",
      "text/plain": [
       "<Figure size 432x288 with 1 Axes>"
      ]
     },
     "metadata": {
      "needs_background": "light"
     },
     "output_type": "display_data"
    }
   ],
   "source": [
    "# 對每個影片計算總體情感分數\n",
    "sentiment_by_video = df_comments.groupby('video_id')['vader_score'].sum()\n",
    "\n",
    "# 將情感分數與視訊資料合併\n",
    "df_videos = df_videos.join(sentiment_by_video, on='video_id')\n",
    "\n",
    "# 使用散佈圖來探討情緒分數與觀看次數之間的關係\n",
    "sns.scatterplot(x='vader_score', y='views', data=df_videos)\n",
    "plt.title('Impact of Overall Sentiment on Views')\n",
    "plt.xlabel('Total Sentiment Score')\n",
    "plt.ylabel('Views')\n",
    "plt.show()\n"
   ]
  },
  {
   "cell_type": "code",
   "execution_count": 22,
   "id": "19d7f0d9",
   "metadata": {
    "execution": {
     "iopub.execute_input": "2023-12-21T16:33:14.135481Z",
     "iopub.status.busy": "2023-12-21T16:33:14.134059Z",
     "iopub.status.idle": "2023-12-21T16:33:14.150447Z",
     "shell.execute_reply": "2023-12-21T16:33:14.149390Z"
    },
    "papermill": {
     "duration": 0.045895,
     "end_time": "2023-12-21T16:33:14.153408",
     "exception": false,
     "start_time": "2023-12-21T16:33:14.107513",
     "status": "completed"
    },
    "tags": []
   },
   "outputs": [],
   "source": [
    "# 創建一個新的DataFrame\n",
    "df_sentiment = pd.DataFrame({'video_id': sentiment_by_video.index, 'total_sentiment': sentiment_by_video.values})\n",
    "\n",
    "# 將DataFrame保存為CSV文件\n",
    "df_sentiment.to_csv('sentiment_analysis_results.csv', index=False)\n"
   ]
  },
  {
   "cell_type": "markdown",
   "id": "6c09157c",
   "metadata": {
    "papermill": {
     "duration": 0.024411,
     "end_time": "2023-12-21T16:33:14.202400",
     "exception": false,
     "start_time": "2023-12-21T16:33:14.177989",
     "status": "completed"
    },
    "tags": []
   },
   "source": [
    "# EDA analysis\n"
   ]
  },
  {
   "cell_type": "code",
   "execution_count": 23,
   "id": "7c3fa9b9",
   "metadata": {
    "execution": {
     "iopub.execute_input": "2023-12-21T16:33:14.254805Z",
     "iopub.status.busy": "2023-12-21T16:33:14.253441Z",
     "iopub.status.idle": "2023-12-21T16:33:14.291039Z",
     "shell.execute_reply": "2023-12-21T16:33:14.289580Z"
    },
    "papermill": {
     "duration": 0.067137,
     "end_time": "2023-12-21T16:33:14.294068",
     "exception": false,
     "start_time": "2023-12-21T16:33:14.226931",
     "status": "completed"
    },
    "tags": []
   },
   "outputs": [
    {
     "name": "stdout",
     "output_type": "stream",
     "text": [
      "最受歡迎的影片類別（平均情感得分）:\n"
     ]
    },
    {
     "data": {
      "text/html": [
       "<div>\n",
       "<style scoped>\n",
       "    .dataframe tbody tr th:only-of-type {\n",
       "        vertical-align: middle;\n",
       "    }\n",
       "\n",
       "    .dataframe tbody tr th {\n",
       "        vertical-align: top;\n",
       "    }\n",
       "\n",
       "    .dataframe thead th {\n",
       "        text-align: right;\n",
       "    }\n",
       "</style>\n",
       "<table border=\"1\" class=\"dataframe\">\n",
       "  <thead>\n",
       "    <tr style=\"text-align: right;\">\n",
       "      <th></th>\n",
       "      <th>Category ID</th>\n",
       "      <th>Category Name</th>\n",
       "      <th>Average Sentiment Score</th>\n",
       "    </tr>\n",
       "  </thead>\n",
       "  <tbody>\n",
       "    <tr>\n",
       "      <th>0</th>\n",
       "      <td>26</td>\n",
       "      <td>Howto &amp; Style</td>\n",
       "      <td>186.090513</td>\n",
       "    </tr>\n",
       "    <tr>\n",
       "      <th>1</th>\n",
       "      <td>19</td>\n",
       "      <td>Travel &amp; Events</td>\n",
       "      <td>138.286893</td>\n",
       "    </tr>\n",
       "    <tr>\n",
       "      <th>2</th>\n",
       "      <td>15</td>\n",
       "      <td>Pets &amp; Animals</td>\n",
       "      <td>128.433887</td>\n",
       "    </tr>\n",
       "    <tr>\n",
       "      <th>3</th>\n",
       "      <td>22</td>\n",
       "      <td>People &amp; Blogs</td>\n",
       "      <td>124.139410</td>\n",
       "    </tr>\n",
       "    <tr>\n",
       "      <th>4</th>\n",
       "      <td>10</td>\n",
       "      <td>Music</td>\n",
       "      <td>114.199542</td>\n",
       "    </tr>\n",
       "    <tr>\n",
       "      <th>5</th>\n",
       "      <td>24</td>\n",
       "      <td>Entertainment</td>\n",
       "      <td>78.849500</td>\n",
       "    </tr>\n",
       "    <tr>\n",
       "      <th>6</th>\n",
       "      <td>23</td>\n",
       "      <td>Comedy</td>\n",
       "      <td>72.895897</td>\n",
       "    </tr>\n",
       "    <tr>\n",
       "      <th>7</th>\n",
       "      <td>28</td>\n",
       "      <td>Science &amp; Technology</td>\n",
       "      <td>69.209223</td>\n",
       "    </tr>\n",
       "    <tr>\n",
       "      <th>8</th>\n",
       "      <td>1</td>\n",
       "      <td>Film &amp; Animation</td>\n",
       "      <td>66.435503</td>\n",
       "    </tr>\n",
       "    <tr>\n",
       "      <th>9</th>\n",
       "      <td>20</td>\n",
       "      <td>Gaming</td>\n",
       "      <td>55.539015</td>\n",
       "    </tr>\n",
       "    <tr>\n",
       "      <th>10</th>\n",
       "      <td>17</td>\n",
       "      <td>Sports</td>\n",
       "      <td>48.502585</td>\n",
       "    </tr>\n",
       "    <tr>\n",
       "      <th>11</th>\n",
       "      <td>27</td>\n",
       "      <td>Education</td>\n",
       "      <td>44.136326</td>\n",
       "    </tr>\n",
       "    <tr>\n",
       "      <th>12</th>\n",
       "      <td>2</td>\n",
       "      <td>Autos &amp; Vehicles</td>\n",
       "      <td>37.506201</td>\n",
       "    </tr>\n",
       "    <tr>\n",
       "      <th>13</th>\n",
       "      <td>29</td>\n",
       "      <td>Nonprofits &amp; Activism</td>\n",
       "      <td>11.151000</td>\n",
       "    </tr>\n",
       "    <tr>\n",
       "      <th>14</th>\n",
       "      <td>25</td>\n",
       "      <td>News &amp; Politics</td>\n",
       "      <td>-17.695569</td>\n",
       "    </tr>\n",
       "  </tbody>\n",
       "</table>\n",
       "</div>"
      ],
      "text/plain": [
       "    Category ID          Category Name  Average Sentiment Score\n",
       "0            26          Howto & Style               186.090513\n",
       "1            19        Travel & Events               138.286893\n",
       "2            15         Pets & Animals               128.433887\n",
       "3            22         People & Blogs               124.139410\n",
       "4            10                  Music               114.199542\n",
       "5            24          Entertainment                78.849500\n",
       "6            23                 Comedy                72.895897\n",
       "7            28   Science & Technology                69.209223\n",
       "8             1       Film & Animation                66.435503\n",
       "9            20                 Gaming                55.539015\n",
       "10           17                 Sports                48.502585\n",
       "11           27              Education                44.136326\n",
       "12            2       Autos & Vehicles                37.506201\n",
       "13           29  Nonprofits & Activism                11.151000\n",
       "14           25        News & Politics               -17.695569"
      ]
     },
     "execution_count": 23,
     "metadata": {},
     "output_type": "execute_result"
    }
   ],
   "source": [
    "# 合併資料集\n",
    "df_merged = pd.merge(df_videos, df_sentiment, on='video_id', how='inner')\n",
    "\n",
    "# 類別ID到類別名稱的映射\n",
    "cat_id_mapping = {\n",
    "    2: 'Autos & Vehicles', 1: 'Film & Animation',\n",
    "    10: 'Music', 15: 'Pets & Animals', 17: 'Sports',\n",
    "    19: 'Travel & Events', 20: 'Gaming', 22: 'People & Blogs',\n",
    "    23: 'Comedy', 24: 'Entertainment', 25: 'News & Politics',\n",
    "    26: 'Howto & Style', 27: 'Education', 28: 'Science & Technology',\n",
    "    29: 'Nonprofits & Activism', 43: 'Shows'\n",
    "}\n",
    "\n",
    "# 計算每個類別的平均情感得分\n",
    "average_sentiment_by_category = df_merged.groupby('category_id')['total_sentiment'].mean().sort_values(ascending=False)\n",
    "df_popular_category = pd.DataFrame(average_sentiment_by_category).reset_index()\n",
    "\n",
    "# 映射category_id到類別名稱\n",
    "df_popular_category['Category Name'] = df_popular_category['category_id'].map(cat_id_mapping)\n",
    "\n",
    "# 重新調整列的順序\n",
    "df_popular_category.columns = ['Category ID', 'Average Sentiment Score', 'Category Name']\n",
    "\n",
    "# 調整列的順序，確保資料與列名相符\n",
    "df_popular_category = df_popular_category[['Category ID', 'Category Name', 'Average Sentiment Score']]\n",
    "\n",
    "print(\"最受歡迎的影片類別（平均情感得分）:\")\n",
    "df_popular_category\n",
    "\n"
   ]
  },
  {
   "cell_type": "code",
   "execution_count": 24,
   "id": "8056c444",
   "metadata": {
    "execution": {
     "iopub.execute_input": "2023-12-21T16:33:14.351421Z",
     "iopub.status.busy": "2023-12-21T16:33:14.350433Z",
     "iopub.status.idle": "2023-12-21T16:33:14.373078Z",
     "shell.execute_reply": "2023-12-21T16:33:14.371721Z"
    },
    "papermill": {
     "duration": 0.05616,
     "end_time": "2023-12-21T16:33:14.375835",
     "exception": false,
     "start_time": "2023-12-21T16:33:14.319675",
     "status": "completed"
    },
    "tags": []
   },
   "outputs": [
    {
     "data": {
      "text/html": [
       "<div>\n",
       "<style scoped>\n",
       "    .dataframe tbody tr th:only-of-type {\n",
       "        vertical-align: middle;\n",
       "    }\n",
       "\n",
       "    .dataframe tbody tr th {\n",
       "        vertical-align: top;\n",
       "    }\n",
       "\n",
       "    .dataframe thead th {\n",
       "        text-align: right;\n",
       "    }\n",
       "</style>\n",
       "<table border=\"1\" class=\"dataframe\">\n",
       "  <thead>\n",
       "    <tr style=\"text-align: right;\">\n",
       "      <th></th>\n",
       "      <th>Channel Title</th>\n",
       "      <th>Number of Hot Videos</th>\n",
       "    </tr>\n",
       "  </thead>\n",
       "  <tbody>\n",
       "    <tr>\n",
       "      <th>0</th>\n",
       "      <td>jacksfilms</td>\n",
       "      <td>34</td>\n",
       "    </tr>\n",
       "    <tr>\n",
       "      <th>1</th>\n",
       "      <td>Safiya Nygaard</td>\n",
       "      <td>30</td>\n",
       "    </tr>\n",
       "    <tr>\n",
       "      <th>2</th>\n",
       "      <td>BuzzFeedVideo</td>\n",
       "      <td>28</td>\n",
       "    </tr>\n",
       "    <tr>\n",
       "      <th>3</th>\n",
       "      <td>Meet Arnold</td>\n",
       "      <td>27</td>\n",
       "    </tr>\n",
       "    <tr>\n",
       "      <th>4</th>\n",
       "      <td>Marques Brownlee</td>\n",
       "      <td>27</td>\n",
       "    </tr>\n",
       "  </tbody>\n",
       "</table>\n",
       "</div>"
      ],
      "text/plain": [
       "      Channel Title  Number of Hot Videos\n",
       "0        jacksfilms                    34\n",
       "1    Safiya Nygaard                    30\n",
       "2     BuzzFeedVideo                    28\n",
       "3       Meet Arnold                    27\n",
       "4  Marques Brownlee                    27"
      ]
     },
     "execution_count": 24,
     "metadata": {},
     "output_type": "execute_result"
    }
   ],
   "source": [
    "# 定義「熱門」影片的標準，例如觀看次數超過某個閾值\n",
    "hot_video_threshold = 1000000\n",
    "df_merged['is_hot'] = df_merged['views'] > hot_video_threshold\n",
    "\n",
    "# 計算每個頻道的熱門影片數量\n",
    "hot_videos_by_channel = df_merged.groupby('channel_title')['is_hot'].sum().sort_values(ascending=False)\n",
    "df_hot_videos_channel = pd.DataFrame(hot_videos_by_channel).reset_index()\n",
    "df_hot_videos_channel.columns = ['Channel Title', 'Number of Hot Videos']\n",
    "\n",
    "df_hot_videos_channel.head()"
   ]
  },
  {
   "cell_type": "code",
   "execution_count": 25,
   "id": "086cc38d",
   "metadata": {
    "execution": {
     "iopub.execute_input": "2023-12-21T16:33:14.430529Z",
     "iopub.status.busy": "2023-12-21T16:33:14.429634Z",
     "iopub.status.idle": "2023-12-21T16:33:14.767455Z",
     "shell.execute_reply": "2023-12-21T16:33:14.766157Z"
    },
    "papermill": {
     "duration": 0.368699,
     "end_time": "2023-12-21T16:33:14.770416",
     "exception": false,
     "start_time": "2023-12-21T16:33:14.401717",
     "status": "completed"
    },
    "tags": []
   },
   "outputs": [
    {
     "data": {
      "image/png": "[encoded data removed]",
      "text/plain": [
       "<Figure size 864x432 with 1 Axes>"
      ]
     },
     "metadata": {
      "needs_background": "light"
     },
     "output_type": "display_data"
    }
   ],
   "source": [
    "# 對類別進行排序，確保情緒得分最高的類別在頂部\n",
    "df_popular_category_sorted = df_popular_category.sort_values(by='Average Sentiment Score', ascending=False)\n",
    "\n",
    "# 创建条形图\n",
    "plt.figure(figsize=(12, 6))\n",
    "plt.bar(df_popular_category_sorted['Category Name'], df_popular_category_sorted['Average Sentiment Score'], color='skyblue')\n",
    "plt.title('Average Sentiment Score by Video Category')\n",
    "plt.xlabel('Category Name')\n",
    "plt.ylabel('Average Sentiment Score')\n",
    "plt.xticks(rotation=45) \n",
    "plt.show()\n"
   ]
  },
  {
   "cell_type": "code",
   "execution_count": 26,
   "id": "c746f831",
   "metadata": {
    "execution": {
     "iopub.execute_input": "2023-12-21T16:33:14.825851Z",
     "iopub.status.busy": "2023-12-21T16:33:14.825087Z",
     "iopub.status.idle": "2023-12-21T16:33:15.169137Z",
     "shell.execute_reply": "2023-12-21T16:33:15.167788Z"
    },
    "papermill": {
     "duration": 0.375457,
     "end_time": "2023-12-21T16:33:15.171993",
     "exception": false,
     "start_time": "2023-12-21T16:33:14.796536",
     "status": "completed"
    },
    "tags": []
   },
   "outputs": [
    {
     "data": {
      "image/png": "[encoded data removed]",
      "text/plain": [
       "<Figure size 864x576 with 1 Axes>"
      ]
     },
     "metadata": {
      "needs_background": "light"
     },
     "output_type": "display_data"
    }
   ],
   "source": [
    "# 將 category_id 對應到特定的影片類別名稱\n",
    "df_videos['category_name'] = df_videos['category_id'].map(cat_id_mapping)\n",
    "\n",
    "# 計算每個類別的影片數量\n",
    "category_counts = df_videos['category_name'].value_counts()\n",
    "\n",
    "# 計算每個類別的平均觀看次數\n",
    "average_views_by_category = df_videos.groupby('category_name')['views'].mean()\n",
    "\n",
    "# 建立一個長條圖展示每個類別的影片數量\n",
    "plt.figure(figsize=(12, 8))\n",
    "category_counts.plot(kind='bar')\n",
    "plt.title('Number of Videos per Category')\n",
    "plt.xlabel('Category')\n",
    "plt.ylabel('Number of Videos')\n",
    "plt.xticks(rotation=45)\n",
    "plt.show()"
   ]
  },
  {
   "cell_type": "code",
   "execution_count": 27,
   "id": "14c13e9b",
   "metadata": {
    "execution": {
     "iopub.execute_input": "2023-12-21T16:33:15.228564Z",
     "iopub.status.busy": "2023-12-21T16:33:15.228092Z",
     "iopub.status.idle": "2023-12-21T16:33:15.597131Z",
     "shell.execute_reply": "2023-12-21T16:33:15.595249Z"
    },
    "papermill": {
     "duration": 0.401714,
     "end_time": "2023-12-21T16:33:15.600840",
     "exception": false,
     "start_time": "2023-12-21T16:33:15.199126",
     "status": "completed"
    },
    "tags": []
   },
   "outputs": [
    {
     "data": {
      "image/png": "[encoded data removed]",
      "text/plain": [
       "<Figure size 864x576 with 1 Axes>"
      ]
     },
     "metadata": {
      "needs_background": "light"
     },
     "output_type": "display_data"
    }
   ],
   "source": [
    "# 建立一個長條圖顯示每個類別的平均觀看次數\n",
    "plt.figure(figsize=(12, 8))\n",
    "average_views_by_category.plot(kind='bar', color='skyblue')\n",
    "plt.title('Average Views per Category')\n",
    "plt.xlabel('Category')\n",
    "plt.ylabel('Average Views')\n",
    "plt.xticks(rotation=45)\n",
    "plt.show()"
   ]
  },
  {
   "cell_type": "code",
   "execution_count": 28,
   "id": "bb214841",
   "metadata": {
    "execution": {
     "iopub.execute_input": "2023-12-21T16:33:15.681394Z",
     "iopub.status.busy": "2023-12-21T16:33:15.680881Z",
     "iopub.status.idle": "2023-12-21T16:33:16.253719Z",
     "shell.execute_reply": "2023-12-21T16:33:16.252439Z"
    },
    "papermill": {
     "duration": 0.611059,
     "end_time": "2023-12-21T16:33:16.256316",
     "exception": false,
     "start_time": "2023-12-21T16:33:15.645257",
     "status": "completed"
    },
    "tags": []
   },
   "outputs": [
    {
     "name": "stdout",
     "output_type": "stream",
     "text": [
      "最受欢迎的视频类别的情感分数:\n"
     ]
    },
    {
     "data": {
      "text/html": [
       "<div>\n",
       "<style scoped>\n",
       "    .dataframe tbody tr th:only-of-type {\n",
       "        vertical-align: middle;\n",
       "    }\n",
       "\n",
       "    .dataframe tbody tr th {\n",
       "        vertical-align: top;\n",
       "    }\n",
       "\n",
       "    .dataframe thead th {\n",
       "        text-align: right;\n",
       "    }\n",
       "</style>\n",
       "<table border=\"1\" class=\"dataframe\">\n",
       "  <thead>\n",
       "    <tr style=\"text-align: right;\">\n",
       "      <th></th>\n",
       "      <th>positive</th>\n",
       "      <th>negative</th>\n",
       "      <th>neutral</th>\n",
       "    </tr>\n",
       "    <tr>\n",
       "      <th>category_name</th>\n",
       "      <th></th>\n",
       "      <th></th>\n",
       "      <th></th>\n",
       "    </tr>\n",
       "  </thead>\n",
       "  <tbody>\n",
       "    <tr>\n",
       "      <th>Autos &amp; Vehicles</th>\n",
       "      <td>12593.0</td>\n",
       "      <td>8256.0</td>\n",
       "      <td>13174.0</td>\n",
       "    </tr>\n",
       "    <tr>\n",
       "      <th>Comedy</th>\n",
       "      <td>132314.0</td>\n",
       "      <td>65829.0</td>\n",
       "      <td>113651.0</td>\n",
       "    </tr>\n",
       "    <tr>\n",
       "      <th>Education</th>\n",
       "      <td>46669.0</td>\n",
       "      <td>32005.0</td>\n",
       "      <td>40528.0</td>\n",
       "    </tr>\n",
       "    <tr>\n",
       "      <th>Entertainment</th>\n",
       "      <td>363250.0</td>\n",
       "      <td>176633.0</td>\n",
       "      <td>287194.0</td>\n",
       "    </tr>\n",
       "    <tr>\n",
       "      <th>Film &amp; Animation</th>\n",
       "      <td>90253.0</td>\n",
       "      <td>47581.0</td>\n",
       "      <td>77473.0</td>\n",
       "    </tr>\n",
       "    <tr>\n",
       "      <th>Gaming</th>\n",
       "      <td>50015.0</td>\n",
       "      <td>26233.0</td>\n",
       "      <td>37734.0</td>\n",
       "    </tr>\n",
       "    <tr>\n",
       "      <th>Howto &amp; Style</th>\n",
       "      <td>381965.0</td>\n",
       "      <td>66458.0</td>\n",
       "      <td>167724.0</td>\n",
       "    </tr>\n",
       "    <tr>\n",
       "      <th>Music</th>\n",
       "      <td>333599.0</td>\n",
       "      <td>106962.0</td>\n",
       "      <td>280440.0</td>\n",
       "    </tr>\n",
       "    <tr>\n",
       "      <th>News &amp; Politics</th>\n",
       "      <td>45013.0</td>\n",
       "      <td>50388.0</td>\n",
       "      <td>43524.0</td>\n",
       "    </tr>\n",
       "    <tr>\n",
       "      <th>Nonprofits &amp; Activism</th>\n",
       "      <td>79.0</td>\n",
       "      <td>0.0</td>\n",
       "      <td>33.0</td>\n",
       "    </tr>\n",
       "    <tr>\n",
       "      <th>People &amp; Blogs</th>\n",
       "      <td>313661.0</td>\n",
       "      <td>104017.0</td>\n",
       "      <td>178194.0</td>\n",
       "    </tr>\n",
       "    <tr>\n",
       "      <th>Pets &amp; Animals</th>\n",
       "      <td>22269.0</td>\n",
       "      <td>6385.0</td>\n",
       "      <td>15187.0</td>\n",
       "    </tr>\n",
       "    <tr>\n",
       "      <th>Science &amp; Technology</th>\n",
       "      <td>63409.0</td>\n",
       "      <td>34352.0</td>\n",
       "      <td>56092.0</td>\n",
       "    </tr>\n",
       "    <tr>\n",
       "      <th>Sports</th>\n",
       "      <td>117440.0</td>\n",
       "      <td>66032.0</td>\n",
       "      <td>111063.0</td>\n",
       "    </tr>\n",
       "    <tr>\n",
       "      <th>Travel &amp; Events</th>\n",
       "      <td>12212.0</td>\n",
       "      <td>2652.0</td>\n",
       "      <td>8388.0</td>\n",
       "    </tr>\n",
       "  </tbody>\n",
       "</table>\n",
       "</div>"
      ],
      "text/plain": [
       "                       positive  negative   neutral\n",
       "category_name                                      \n",
       "Autos & Vehicles        12593.0    8256.0   13174.0\n",
       "Comedy                 132314.0   65829.0  113651.0\n",
       "Education               46669.0   32005.0   40528.0\n",
       "Entertainment          363250.0  176633.0  287194.0\n",
       "Film & Animation        90253.0   47581.0   77473.0\n",
       "Gaming                  50015.0   26233.0   37734.0\n",
       "Howto & Style          381965.0   66458.0  167724.0\n",
       "Music                  333599.0  106962.0  280440.0\n",
       "News & Politics         45013.0   50388.0   43524.0\n",
       "Nonprofits & Activism      79.0       0.0      33.0\n",
       "People & Blogs         313661.0  104017.0  178194.0\n",
       "Pets & Animals          22269.0    6385.0   15187.0\n",
       "Science & Technology    63409.0   34352.0   56092.0\n",
       "Sports                 117440.0   66032.0  111063.0\n",
       "Travel & Events         12212.0    2652.0    8388.0"
      ]
     },
     "execution_count": 28,
     "metadata": {},
     "output_type": "execute_result"
    }
   ],
   "source": [
    "# 計算每個影片的正面、負面和中性評論數量\n",
    "df_comments['sentiment_type'] = df_comments['vader_score'].apply(\n",
    "    lambda x: 'positive' if x > 0.05 else ('negative' if x < -0.05 else 'neutral')\n",
    ")\n",
    "sentiment_counts_by_video = df_comments.groupby(['video_id', 'sentiment_type']).size().unstack(fill_value=0)\n",
    "\n",
    "# 將情緒計數與原始影片資料集合併\n",
    "df_merged = pd.merge(df_videos, sentiment_counts_by_video, left_on='video_id', right_index=True, how='left')\n",
    "\n",
    "# 最受歡迎的影片類別的情感分數\n",
    "popular_category_sentiments = df_merged.groupby('category_name')[['positive', 'negative', 'neutral']].sum()\n",
    "\n",
    "# 定義“熱門”影片的標準\n",
    "hot_video_threshold = 1000000\n",
    "df_videos['is_hot'] = df_videos['views'] > hot_video_threshold\n",
    "\n",
    "# 最受歡迎的影片類別的情感分數\n",
    "hot_videos_by_channel = df_videos[df_videos['is_hot']].groupby('channel_title').size().nlargest(5)\n",
    "hot_channel_sentiments = df_merged[df_merged['channel_title'].isin(hot_videos_by_channel.index)].groupby('channel_title')[['positive', 'negative', 'neutral']].sum()\n",
    "\n",
    "print(\"最受欢迎的视频类别的情感分数:\")\n",
    "popular_category_sentiments"
   ]
  },
  {
   "cell_type": "code",
   "execution_count": 29,
   "id": "240eb3b3",
   "metadata": {
    "execution": {
     "iopub.execute_input": "2023-12-21T16:33:16.315063Z",
     "iopub.status.busy": "2023-12-21T16:33:16.314599Z",
     "iopub.status.idle": "2023-12-21T16:33:16.330273Z",
     "shell.execute_reply": "2023-12-21T16:33:16.328646Z"
    },
    "papermill": {
     "duration": 0.047807,
     "end_time": "2023-12-21T16:33:16.332711",
     "exception": false,
     "start_time": "2023-12-21T16:33:16.284904",
     "status": "completed"
    },
    "tags": []
   },
   "outputs": [
    {
     "name": "stdout",
     "output_type": "stream",
     "text": [
      "\n",
      "热门视频最多的频道的情感分数:\n"
     ]
    },
    {
     "data": {
      "text/html": [
       "<div>\n",
       "<style scoped>\n",
       "    .dataframe tbody tr th:only-of-type {\n",
       "        vertical-align: middle;\n",
       "    }\n",
       "\n",
       "    .dataframe tbody tr th {\n",
       "        vertical-align: top;\n",
       "    }\n",
       "\n",
       "    .dataframe thead th {\n",
       "        text-align: right;\n",
       "    }\n",
       "</style>\n",
       "<table border=\"1\" class=\"dataframe\">\n",
       "  <thead>\n",
       "    <tr style=\"text-align: right;\">\n",
       "      <th></th>\n",
       "      <th>positive</th>\n",
       "      <th>negative</th>\n",
       "      <th>neutral</th>\n",
       "    </tr>\n",
       "    <tr>\n",
       "      <th>channel_title</th>\n",
       "      <th></th>\n",
       "      <th></th>\n",
       "      <th></th>\n",
       "    </tr>\n",
       "  </thead>\n",
       "  <tbody>\n",
       "    <tr>\n",
       "      <th>Brave Wilderness</th>\n",
       "      <td>7287.0</td>\n",
       "      <td>2266.0</td>\n",
       "      <td>7347.0</td>\n",
       "    </tr>\n",
       "    <tr>\n",
       "      <th>BuzzFeedVideo</th>\n",
       "      <td>7587.0</td>\n",
       "      <td>2439.0</td>\n",
       "      <td>7367.0</td>\n",
       "    </tr>\n",
       "    <tr>\n",
       "      <th>Marques Brownlee</th>\n",
       "      <td>11091.0</td>\n",
       "      <td>3404.0</td>\n",
       "      <td>6300.0</td>\n",
       "    </tr>\n",
       "    <tr>\n",
       "      <th>Safiya Nygaard</th>\n",
       "      <td>10865.0</td>\n",
       "      <td>2122.0</td>\n",
       "      <td>5806.0</td>\n",
       "    </tr>\n",
       "    <tr>\n",
       "      <th>jacksfilms</th>\n",
       "      <td>7502.0</td>\n",
       "      <td>6031.0</td>\n",
       "      <td>13356.0</td>\n",
       "    </tr>\n",
       "  </tbody>\n",
       "</table>\n",
       "</div>"
      ],
      "text/plain": [
       "                  positive  negative  neutral\n",
       "channel_title                                \n",
       "Brave Wilderness    7287.0    2266.0   7347.0\n",
       "BuzzFeedVideo       7587.0    2439.0   7367.0\n",
       "Marques Brownlee   11091.0    3404.0   6300.0\n",
       "Safiya Nygaard     10865.0    2122.0   5806.0\n",
       "jacksfilms          7502.0    6031.0  13356.0"
      ]
     },
     "execution_count": 29,
     "metadata": {},
     "output_type": "execute_result"
    }
   ],
   "source": [
    "print(\"\\n热门视频最多的频道的情感分数:\")\n",
    "hot_channel_sentiments"
   ]
  },
  {
   "cell_type": "code",
   "execution_count": 30,
   "id": "4a73a46b",
   "metadata": {
    "execution": {
     "iopub.execute_input": "2023-12-21T16:33:16.395601Z",
     "iopub.status.busy": "2023-12-21T16:33:16.394887Z",
     "iopub.status.idle": "2023-12-21T16:33:16.676103Z",
     "shell.execute_reply": "2023-12-21T16:33:16.674448Z"
    },
    "papermill": {
     "duration": 0.317134,
     "end_time": "2023-12-21T16:33:16.679844",
     "exception": false,
     "start_time": "2023-12-21T16:33:16.362710",
     "status": "completed"
    },
    "tags": []
   },
   "outputs": [
    {
     "data": {
      "image/png": "[encoded data removed]",
      "text/plain": [
       "<Figure size 432x288 with 1 Axes>"
      ]
     },
     "metadata": {
      "needs_background": "light"
     },
     "output_type": "display_data"
    }
   ],
   "source": [
    "# 熱門頻道的正負情感比例\n",
    "hot_channel_sentiments['positive_ratio'] = hot_channel_sentiments['positive'] / (hot_channel_sentiments['positive'] + hot_channel_sentiments['negative'] + hot_channel_sentiments['neutral'])\n",
    "hot_channel_sentiments['negative_ratio'] = hot_channel_sentiments['negative'] / (hot_channel_sentiments['positive'] + hot_channel_sentiments['negative'] + hot_channel_sentiments['neutral'])\n",
    "\n",
    "# 繪製正負情感比例圖\n",
    "hot_channel_sentiments[['positive_ratio', 'negative_ratio']].plot(kind='bar', stacked=True)\n",
    "plt.title('Positive vs Negative Sentiment Ratio by Channel')\n",
    "plt.xlabel('Channel Title')\n",
    "plt.ylabel('Sentiment Ratio')\n",
    "plt.show()\n"
   ]
  }
 ],
 "metadata": {
  "kaggle": {
   "accelerator": "none",
   "dataSources": [
    {
     "datasetId": 2518,
     "sourceId": 5577,
     "sourceType": "datasetVersion"
    }
   ],
   "dockerImageVersionId": 30260,
   "isGpuEnabled": false,
   "isInternetEnabled": true,
   "language": "python",
   "sourceType": "notebook"
  },
  "kernelspec": {
   "display_name": "Python 3",
   "language": "python",
   "name": "python3"
  },
  "language_info": {
   "codemirror_mode": {
    "name": "ipython",
    "version": 3
   },
   "file_extension": ".py",
   "mimetype": "text/x-python",
   "name": "python",
   "nbconvert_exporter": "python",
   "pygments_lexer": "ipython3",
   "version": "3.7.12"
  },
  "papermill": {
   "default_parameters": {},
   "duration": 228.439356,
   "end_time": "2023-12-21T16:33:17.735095",
   "environment_variables": {},
   "exception": null,
   "input_path": "__notebook__.ipynb",
   "output_path": "__notebook__.ipynb",
   "parameters": {},
   "start_time": "2023-12-21T16:29:29.295739",
   "version": "2.3.4"
  }
 },
 "nbformat": 4,
 "nbformat_minor": 5
}
